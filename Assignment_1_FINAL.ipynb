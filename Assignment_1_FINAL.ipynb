{
 "cells": [
  {
   "cell_type": "markdown",
   "metadata": {
    "id": "-WeCeITXoxLf"
   },
   "source": [
    "# Assignment 1\n",
    "\n",
    "**Due to**: 20/12/2021 (dd/mm/yyyy)\n",
    "\n",
    "**Credits**: Andrea Galassi, Federico Ruggeri, Paolo Torroni\n",
    "\n",
    "**Summary**: Part-of Speech (POS) tagging as Sequence Labelling using Recurrent Neural Architectures\n",
    "\n",
    "**Authors**: \n",
    "\n",
    "*   Davide Mercanti: davide.mercanti@studio.unibo.it\n",
    "*   Riccardo Fava: riccardo.fava6@studio.unibo.it\n",
    "*   Luca Bompani: luca.bompani4@studio.unibo.it"
   ]
  },
  {
   "cell_type": "markdown",
   "metadata": {
    "id": "81z92FtsAGPT"
   },
   "source": [
    "## Downloading the dataset and some utilities"
   ]
  },
  {
   "cell_type": "code",
   "execution_count": 1,
   "metadata": {
    "id": "nPAww7lPbqpM"
   },
   "outputs": [],
   "source": [
    "# This cell includes some utilities that are used in the rest of the notebook.\n",
    "\n",
    "from os.path import isfile, isdir, join as path_join\n",
    "from google.colab import drive\n",
    "from shutil import unpack_archive, copy\n",
    "from torch.utils.data import Dataset\n",
    "import pickle\n",
    "import pandas as pd\n",
    "from collections import defaultdict\n",
    "\n",
    "\n",
    "def try_get_from_Drive(fname, dpath):\n",
    "  try:\n",
    "    if not isdir('/content/drive'): drive.mount('/content/drive')\n",
    "    if isfile(f'{dpath}{fname}'):\n",
    "      print('=== Zip found in Google Drive ===')\n",
    "      copy(f'{dpath}{fname}','.')\n",
    "  except Exception:\n",
    "    pass\n",
    "  \n",
    "def try_copy_in_Drive(fname, dpath):\n",
    "  try:\n",
    "    if not isdir('/content/drive'): drive.mount('/content/drive')\n",
    "    if not isfile(f'{dpath}{fname}'):\n",
    "      print('=== copying in Drive ===')\n",
    "      copy(fname,f'{dpath}{fname}')\n",
    "  except Exception as e:\n",
    "    print(e)\n",
    "    \n",
    "def unpickle(fname, verbose=False):\n",
    "    with open(fname, 'rb') as pf:\n",
    "        if verbose: print(end='loading pickled file... ', flush=True)\n",
    "        loaded = pickle.load(pf, encoding='bytes')\n",
    "        if verbose: print('done')\n",
    "        return loaded\n",
    "\n",
    "\n",
    "class autoIntDict(defaultdict):\n",
    "  ''' Similar to a default dictionary with int values, but keeps count of the newly added\n",
    "  elements. Accessed elements are automatically added in the dictionary if nonexistent\n",
    "  with a value that is len(current_dict). For example, given:\n",
    "    orig = {'ciao':0, 'pippo':1}\n",
    "    prova = myDict(orig)\n",
    "    prova['ciao'], prova['hello'], prova['man'], prova.get_newly_added(), prova['man'], prova['ball'], prova\n",
    "  The last line evaluates to:\n",
    "    (0, 2, 3, 2, 3, 4, myDict(None, {'ball': 4, 'ciao': 0, 'hello': 2, 'man': 3, 'pippo': 1}))\n",
    "  '''\n",
    "  def __init__(self, *aa, **aak):\n",
    "    self.newly_added = 0\n",
    "    self.base_len = len(aa[0])\n",
    "    return super().__init__(None, *aa, **aak)\n",
    "\n",
    "  def __missing__(self, unused):\n",
    "    self.newly_added += 1\n",
    "    return self.setdefault(self.key, self.base_len + self.newly_added -1)\n",
    "\n",
    "  def __getitem__(self, key):\n",
    "    self.key = key\n",
    "    return super().__getitem__(key)\n",
    "\n",
    "  def get_newly_added(self):\n",
    "    tmp = self.newly_added\n",
    "    self.base_len += tmp\n",
    "    self.newly_added = 0\n",
    "    return tmp\n",
    "\n",
    "# Defining custom Dataset class for better handling data using Pytorch\n",
    "# It expects df to have two columns!\n",
    "class CustomTextDataset(Dataset):\n",
    "  def __init__(self, df):\n",
    "    self.text = df.iloc[:,0]\n",
    "    self.labels = df.iloc[:,1]\n",
    "  \n",
    "  def __len__(self):\n",
    "    return len(self.labels)\n",
    "  \n",
    "  def __getitem__(self, idx):\n",
    "    return (self.labels[idx], self.text[idx])"
   ]
  },
  {
   "cell_type": "code",
   "execution_count": null,
   "metadata": {
    "id": "DDpOOZijQ6XG"
   },
   "outputs": [],
   "source": [
    "# These 2 cells download the data as a zipfile and copy it in Drive, then local\n",
    "# zip is extracted. Every operation is performed only if needed."
   ]
  },
  {
   "cell_type": "code",
   "execution_count": 2,
   "metadata": {
    "colab": {
     "base_uri": "https://localhost:8080/",
     "height": 0
    },
    "id": "TdwfgMYB95yb",
    "outputId": "03acbe4c-a168-4eed-ad39-beeec79a9f14"
   },
   "outputs": [
    {
     "name": "stdout",
     "output_type": "stream",
     "text": [
      "Mounted at /content/drive\n"
     ]
    }
   ],
   "source": [
    "DR_PATH = '/content/drive/MyDrive/'\n",
    "USE_PICKLED = True\n",
    "\n",
    "import os, sys\n",
    "from os.path import isfile, isdir, join as path_join\n",
    "from requests import get\n",
    "from shutil import unpack_archive\n",
    "from google.colab import drive\n",
    "\n",
    "if not isdir('/content/drive'): drive.mount('/content/drive')\n",
    "!mkdir /content/drive/MyDrive/gensim-data/ 2>/dev/null\n"
   ]
  },
  {
   "cell_type": "code",
   "execution_count": 3,
   "metadata": {
    "colab": {
     "base_uri": "https://localhost:8080/",
     "height": 0
    },
    "id": "hEpdA2Zd-y9E",
    "outputId": "d1c23707-731a-485e-80a8-bc69c388c439"
   },
   "outputs": [
    {
     "name": "stdout",
     "output_type": "stream",
     "text": [
      "=== Zip found in Google Drive ===\n",
      "no download needed\n",
      "=== Unpacked ===\n"
     ]
    }
   ],
   "source": [
    "DIRNAME = 'dependency_treebank'\n",
    "ZIPNAME = f'{DIRNAME}.zip'\n",
    "URL = 'https://raw.githubusercontent.com/nltk/nltk_data/gh-pages/packages/corpora/dependency_treebank.zip'\n",
    "\n",
    "if not isfile(ZIPNAME): try_get_from_Drive(ZIPNAME, DR_PATH)\n",
    "if not isfile(ZIPNAME):\n",
    "  print(end='=== Downloading... ', flush=True)\n",
    "  with open(ZIPNAME, 'wb') as outf: outf.write(get(URL).content)\n",
    "  print('=== OK ===')\n",
    "  try_copy_in_Drive(ZIPNAME, DR_PATH)\n",
    "else: print('no download needed')\n",
    "  \n",
    "if not isdir(DIRNAME):\n",
    "  unpack_archive(ZIPNAME)\n",
    "  print('=== Unpacked ===')\n",
    "else: print('no unpacking needed')\n",
    "\n",
    "del get"
   ]
  },
  {
   "cell_type": "markdown",
   "metadata": {
    "id": "D8rdUNsK95yc"
   },
   "source": [
    "## Splitting the dataset structuring dataframes"
   ]
  },
  {
   "cell_type": "code",
   "execution_count": 4,
   "metadata": {
    "id": "fOGqPcntDJZq"
   },
   "outputs": [],
   "source": [
    "import pandas as pd"
   ]
  },
  {
   "cell_type": "code",
   "execution_count": 5,
   "metadata": {
    "colab": {
     "base_uri": "https://localhost:8080/",
     "height": 35
    },
    "id": "Qf-Hi__G95yd",
    "outputId": "35b1fe35-1ae6-4ab6-88da-b1a9772c143b"
   },
   "outputs": [
    {
     "data": {
      "application/vnd.google.colaboratory.intrinsic+json": {
       "type": "string"
      },
      "text/plain": [
       "'45 out features'"
      ]
     },
     "execution_count": 5,
     "metadata": {},
     "output_type": "execute_result"
    }
   ],
   "source": [
    "def train_valid_test():\n",
    "  '''Returns three dataframes with train, validation and test data respectiv.'''\n",
    "  global DIRNAME\n",
    "\n",
    "  def parse_file(file_):\n",
    "    '''Returns an iterator of tuples, one for each nonempty line of 'file_', each\n",
    "    one containing a token and its correspondent tag.'''\n",
    "    for line in file_.readlines():\n",
    "      try: token, tag, _ = line.split()\n",
    "      except ValueError: pass # to exclude blank lines\n",
    "      yield (token, tag)\n",
    "\n",
    "  def df_from_files(*bounds):\n",
    "    '''Builds a dataframe for every interval of files passed using parse_file.\n",
    "    Returns a generator of the said dataframes. '''\n",
    "    for t in bounds:\n",
    "      file_tt :list[tuple] = [] # list of (token,tag) tuples\n",
    "      for fnumber in range(*t):\n",
    "        with open(path_join(DIRNAME, f'wsj_{fnumber:04}.dp'), 'r') as doc:\n",
    "          file_tt += parse_file(doc)\n",
    "      yield file_tt\n",
    "\n",
    "  return tuple(\n",
    "    pd.DataFrame(_, columns=['token','tag']) \n",
    "    for _ in df_from_files((1,101), (101,151), (151,200))\n",
    "  )\n",
    "  \n",
    "train_df, test_df, val_df = train_valid_test()\n",
    "\n",
    "N_OUT_FEATURES = len(pd.unique(train_df['tag']))\n",
    "f'{N_OUT_FEATURES} out features'"
   ]
  },
  {
   "cell_type": "code",
   "execution_count": 6,
   "metadata": {
    "colab": {
     "base_uri": "https://localhost:8080/",
     "height": 206
    },
    "id": "_Wt-yOro0NA4",
    "outputId": "26f2afd8-bf39-45bd-8e36-53db2a5c660b"
   },
   "outputs": [
    {
     "data": {
      "text/html": [
       "\n",
       "  <div id=\"df-0a2b2a63-c917-42c8-880f-f3ea72002670\">\n",
       "    <div class=\"colab-df-container\">\n",
       "      <div>\n",
       "<style scoped>\n",
       "    .dataframe tbody tr th:only-of-type {\n",
       "        vertical-align: middle;\n",
       "    }\n",
       "\n",
       "    .dataframe tbody tr th {\n",
       "        vertical-align: top;\n",
       "    }\n",
       "\n",
       "    .dataframe thead th {\n",
       "        text-align: right;\n",
       "    }\n",
       "</style>\n",
       "<table border=\"1\" class=\"dataframe\">\n",
       "  <thead>\n",
       "    <tr style=\"text-align: right;\">\n",
       "      <th></th>\n",
       "      <th>token</th>\n",
       "      <th>tag</th>\n",
       "    </tr>\n",
       "  </thead>\n",
       "  <tbody>\n",
       "    <tr>\n",
       "      <th>0</th>\n",
       "      <td>Pierre</td>\n",
       "      <td>NNP</td>\n",
       "    </tr>\n",
       "    <tr>\n",
       "      <th>1</th>\n",
       "      <td>Vinken</td>\n",
       "      <td>NNP</td>\n",
       "    </tr>\n",
       "    <tr>\n",
       "      <th>2</th>\n",
       "      <td>,</td>\n",
       "      <td>,</td>\n",
       "    </tr>\n",
       "    <tr>\n",
       "      <th>3</th>\n",
       "      <td>61</td>\n",
       "      <td>CD</td>\n",
       "    </tr>\n",
       "    <tr>\n",
       "      <th>4</th>\n",
       "      <td>years</td>\n",
       "      <td>NNS</td>\n",
       "    </tr>\n",
       "  </tbody>\n",
       "</table>\n",
       "</div>\n",
       "      <button class=\"colab-df-convert\" onclick=\"convertToInteractive('df-0a2b2a63-c917-42c8-880f-f3ea72002670')\"\n",
       "              title=\"Convert this dataframe to an interactive table.\"\n",
       "              style=\"display:none;\">\n",
       "        \n",
       "  <svg xmlns=\"http://www.w3.org/2000/svg\" height=\"24px\"viewBox=\"0 0 24 24\"\n",
       "       width=\"24px\">\n",
       "    <path d=\"M0 0h24v24H0V0z\" fill=\"none\"/>\n",
       "    <path d=\"M18.56 5.44l.94 2.06.94-2.06 2.06-.94-2.06-.94-.94-2.06-.94 2.06-2.06.94zm-11 1L8.5 8.5l.94-2.06 2.06-.94-2.06-.94L8.5 2.5l-.94 2.06-2.06.94zm10 10l.94 2.06.94-2.06 2.06-.94-2.06-.94-.94-2.06-.94 2.06-2.06.94z\"/><path d=\"M17.41 7.96l-1.37-1.37c-.4-.4-.92-.59-1.43-.59-.52 0-1.04.2-1.43.59L10.3 9.45l-7.72 7.72c-.78.78-.78 2.05 0 2.83L4 21.41c.39.39.9.59 1.41.59.51 0 1.02-.2 1.41-.59l7.78-7.78 2.81-2.81c.8-.78.8-2.07 0-2.86zM5.41 20L4 18.59l7.72-7.72 1.47 1.35L5.41 20z\"/>\n",
       "  </svg>\n",
       "      </button>\n",
       "      \n",
       "  <style>\n",
       "    .colab-df-container {\n",
       "      display:flex;\n",
       "      flex-wrap:wrap;\n",
       "      gap: 12px;\n",
       "    }\n",
       "\n",
       "    .colab-df-convert {\n",
       "      background-color: #E8F0FE;\n",
       "      border: none;\n",
       "      border-radius: 50%;\n",
       "      cursor: pointer;\n",
       "      display: none;\n",
       "      fill: #1967D2;\n",
       "      height: 32px;\n",
       "      padding: 0 0 0 0;\n",
       "      width: 32px;\n",
       "    }\n",
       "\n",
       "    .colab-df-convert:hover {\n",
       "      background-color: #E2EBFA;\n",
       "      box-shadow: 0px 1px 2px rgba(60, 64, 67, 0.3), 0px 1px 3px 1px rgba(60, 64, 67, 0.15);\n",
       "      fill: #174EA6;\n",
       "    }\n",
       "\n",
       "    [theme=dark] .colab-df-convert {\n",
       "      background-color: #3B4455;\n",
       "      fill: #D2E3FC;\n",
       "    }\n",
       "\n",
       "    [theme=dark] .colab-df-convert:hover {\n",
       "      background-color: #434B5C;\n",
       "      box-shadow: 0px 1px 3px 1px rgba(0, 0, 0, 0.15);\n",
       "      filter: drop-shadow(0px 1px 2px rgba(0, 0, 0, 0.3));\n",
       "      fill: #FFFFFF;\n",
       "    }\n",
       "  </style>\n",
       "\n",
       "      <script>\n",
       "        const buttonEl =\n",
       "          document.querySelector('#df-0a2b2a63-c917-42c8-880f-f3ea72002670 button.colab-df-convert');\n",
       "        buttonEl.style.display =\n",
       "          google.colab.kernel.accessAllowed ? 'block' : 'none';\n",
       "\n",
       "        async function convertToInteractive(key) {\n",
       "          const element = document.querySelector('#df-0a2b2a63-c917-42c8-880f-f3ea72002670');\n",
       "          const dataTable =\n",
       "            await google.colab.kernel.invokeFunction('convertToInteractive',\n",
       "                                                     [key], {});\n",
       "          if (!dataTable) return;\n",
       "\n",
       "          const docLinkHtml = 'Like what you see? Visit the ' +\n",
       "            '<a target=\"_blank\" href=https://colab.research.google.com/notebooks/data_table.ipynb>data table notebook</a>'\n",
       "            + ' to learn more about interactive tables.';\n",
       "          element.innerHTML = '';\n",
       "          dataTable['output_type'] = 'display_data';\n",
       "          await google.colab.output.renderOutput(dataTable, element);\n",
       "          const docLink = document.createElement('div');\n",
       "          docLink.innerHTML = docLinkHtml;\n",
       "          element.appendChild(docLink);\n",
       "        }\n",
       "      </script>\n",
       "    </div>\n",
       "  </div>\n",
       "  "
      ],
      "text/plain": [
       "    token  tag\n",
       "0  Pierre  NNP\n",
       "1  Vinken  NNP\n",
       "2       ,    ,\n",
       "3      61   CD\n",
       "4   years  NNS"
      ]
     },
     "execution_count": 6,
     "metadata": {},
     "output_type": "execute_result"
    }
   ],
   "source": [
    "train_df.head(5)"
   ]
  },
  {
   "cell_type": "markdown",
   "metadata": {
    "id": "E5d3MT1E95yd"
   },
   "source": [
    "## Loading Pre-Trained Glove Model"
   ]
  },
  {
   "cell_type": "code",
   "execution_count": 7,
   "metadata": {
    "id": "QDkOoqU9DpKG"
   },
   "outputs": [],
   "source": [
    "GENSIM_PATH = '/content/drive/MyDrive/gensim-data'  # ASSUMED TO BE IN DRIVE"
   ]
  },
  {
   "cell_type": "code",
   "execution_count": 8,
   "metadata": {
    "id": "YKuEtbXU95yd"
   },
   "outputs": [],
   "source": [
    "def load_glove_model(embedding_dimension):\n",
    "  '''Loads a pre-trained word embedding model via gensim library, or unpickles\n",
    "  the pre-saved file (faster) whenever available.'''\n",
    "  global GENSIM_PATH, USE_PICKLED\n",
    "  import gensim.downloader as gloader\n",
    "  \n",
    "  download_path = f'glove-wiki-gigaword-{embedding_dimension}'\n",
    "\n",
    "  try:\n",
    "    pic_name = path_join(GENSIM_PATH, download_path+'_pic')\n",
    "    if USE_PICKLED and isfile(pic_name):\n",
    "      embedding_model = unpickle(pic_name)\n",
    "    else:\n",
    "      if isdir('/content/drive'): \n",
    "        gloader.base_dir = GENSIM_PATH\n",
    "      embedding_model = gloader.load(download_path)\n",
    "      if USE_PICKLED:\n",
    "        with open(pic_name, 'wb') as pf:\n",
    "          print('dumping pickle file')\n",
    "          pickle.dump(embedding_model, pf)\n",
    "  except ValueError as e:\n",
    "        print(\"Check the embedding dimension: (50, 100, 200, 300)\")\n",
    "        raise e\n",
    "  return embedding_model"
   ]
  },
  {
   "cell_type": "code",
   "execution_count": 9,
   "metadata": {
    "id": "xVp4m_4s95yd"
   },
   "outputs": [],
   "source": [
    "EMBEDDING_DIMENSION = 200\n",
    "glove_embedding_model = load_glove_model(EMBEDDING_DIMENSION)"
   ]
  },
  {
   "cell_type": "code",
   "execution_count": 10,
   "metadata": {
    "colab": {
     "base_uri": "https://localhost:8080/",
     "height": 0
    },
    "id": "oZsL8d3g95ye",
    "outputId": "100c1069-8fa3-4e13-97ff-b65cfbc53db6"
   },
   "outputs": [
    {
     "name": "stdout",
     "output_type": "stream",
     "text": [
      "glove-wiki-gigaword-200  glove-wiki-gigaword-200_pic\n"
     ]
    }
   ],
   "source": [
    "!ls /content/drive/MyDrive/gensim-data/"
   ]
  },
  {
   "cell_type": "markdown",
   "metadata": {
    "id": "NVBGq18K95ye"
   },
   "source": [
    "## Checking for Out-of-vocabulary terms\n",
    "We check the number of out-of-vocabulary terms in the training set. "
   ]
  },
  {
   "cell_type": "code",
   "execution_count": 11,
   "metadata": {
    "id": "5iKaT2e095ye"
   },
   "outputs": [],
   "source": [
    "def check_OOV_terms(embedding_model, vocabulary_terms):\n",
    "  '''Returns a list of out-of-vocabulary (OOV) terms and the corresp. len'''\n",
    "  embedding_vocabulary = set(embedding_model.vocab.keys())\n",
    "  oov = set(vocabulary_terms).difference(embedding_vocabulary)\n",
    "  return list(oov), len(oov)"
   ]
  },
  {
   "cell_type": "code",
   "execution_count": 12,
   "metadata": {
    "colab": {
     "base_uri": "https://localhost:8080/",
     "height": 0
    },
    "id": "R5QvHPrV95ye",
    "outputId": "62feff17-8b41-4495-df63-50b5a9dfedc7"
   },
   "outputs": [
    {
     "name": "stdout",
     "output_type": "stream",
     "text": [
      "Total OOV terms: 2346 (0.048%)\n",
      "Total OOV terms after lowering: 359 (0.007%)\n"
     ]
    }
   ],
   "source": [
    "train_vocabulary_terms = train_df['token']\n",
    "train_vocabulary_terms_tl = train_df['token'].map(str.lower)\n",
    "\n",
    "_, n_oov_terms = check_OOV_terms(glove_embedding_model, train_vocabulary_terms)\n",
    "print(f\"Total OOV terms: {n_oov_terms} ({n_oov_terms/len(train_vocabulary_terms):.03f}%)\")\n",
    "\n",
    "_, n_oov_terms2 = check_OOV_terms(glove_embedding_model, train_vocabulary_terms_tl)\n",
    "print(f\"Total OOV terms after lowering: {n_oov_terms2} ({n_oov_terms2/len(train_vocabulary_terms):.03f}%)\")\n",
    "\n",
    "train_vocabulary_terms = train_vocabulary_terms_tl"
   ]
  },
  {
   "cell_type": "markdown",
   "metadata": {
    "id": "TPYAMgDr95ye"
   },
   "source": [
    "## Building Embedding Matrix and handling OOV terms\n",
    "We proceed on building the embedding matrix, while handling OOV terms at the same time.\n",
    "We will assign a random vector to each OOV term.\n",
    "An alternative would be to identify the word embedding as the mean of its neighbour word embeddings.\n",
    "We will use our embedding matrix as input for the embedding layer of our model."
   ]
  },
  {
   "cell_type": "code",
   "execution_count": 13,
   "metadata": {
    "id": "RQuu6l-wHL2b"
   },
   "outputs": [],
   "source": [
    "from collections import defaultdict\n",
    "import numpy as np"
   ]
  },
  {
   "cell_type": "code",
   "execution_count": 14,
   "metadata": {
    "colab": {
     "base_uri": "https://localhost:8080/",
     "height": 0
    },
    "id": "aAz8vmAuFqS_",
    "outputId": "fc44c320-09f1-4d60-d1eb-a0f9dbec210d"
   },
   "outputs": [
    {
     "name": "stdout",
     "output_type": "stream",
     "text": [
      "Weights matrix size: (400000, 200)\n"
     ]
    }
   ],
   "source": [
    "WORD_TO_POSITION_DICTIONARY = {}\n",
    "\n",
    "for i,word in enumerate(glove_embedding_model.vocab):\n",
    "    WORD_TO_POSITION_DICTIONARY[word] = i\n",
    "    \n",
    "WEIGHT_MATRIX = np.array([glove_embedding_model.get_vector(i) for i in WORD_TO_POSITION_DICTIONARY])\n",
    "\n",
    "print(f'Weights matrix size: {WEIGHT_MATRIX.shape}')"
   ]
  },
  {
   "cell_type": "markdown",
   "metadata": {
    "id": "H9Ht7YNu95yf"
   },
   "source": [
    "## Data Iterators and data conversion\n",
    "\n",
    "We have to convert our input text and our labels into numerical format.\n"
   ]
  },
  {
   "cell_type": "code",
   "execution_count": 15,
   "metadata": {
    "id": "E_lmERwb0ZuZ"
   },
   "outputs": [],
   "source": [
    "import pandas as pd"
   ]
  },
  {
   "cell_type": "code",
   "execution_count": 16,
   "metadata": {
    "id": "B_l3IAf_95yg"
   },
   "outputs": [],
   "source": [
    "def train_valid_test():\n",
    "  '''Returns three datasets with train, validation and test data respectiv. '''\n",
    "  \n",
    "  def parse_file(file_):\n",
    "    '''Returns an iterator of tuples, one for each nonempty line of 'file_', each\n",
    "    one containing a token and its correspondent tag.'''\n",
    "    labelled_sentences, labelled_sentence = [], []\n",
    "    for line in file_.readlines() + ['']:\n",
    "      try:\n",
    "        token, tag, _ = line.split()\n",
    "        labelled_sentence.append((token,tag))\n",
    "      except ValueError: # Generated when end-of-sentence is encountered\n",
    "        labelled_sentences.append(zip(*labelled_sentence))\n",
    "        labelled_sentence = []\n",
    "    yield labelled_sentences\n",
    "\n",
    "  def df_from_files(*bounds):\n",
    "    '''Builds a dataframe for every interval of files passed using parse_file.\n",
    "    Returns a generator of the said dataframes. '''\n",
    "    for t in bounds:\n",
    "      file_tt :list[tuple] = []\n",
    "      for fnumber in range(*t):\n",
    "        with open(path_join(DIRNAME, f'wsj_{fnumber:04}.dp'), 'r') as doc:\n",
    "         for _ in parse_file(doc): file_tt += _\n",
    "      yield file_tt\n",
    "\n",
    "  return tuple(\n",
    "    pd.DataFrame(_, columns=['sentence','POS']) \n",
    "    for _ in df_from_files((1,101), (101,151), (151,200))\n",
    "  )\n",
    "\n",
    "train_df, val_df, test_df = train_valid_test()\n"
   ]
  },
  {
   "cell_type": "code",
   "execution_count": 17,
   "metadata": {
    "colab": {
     "base_uri": "https://localhost:8080/",
     "height": 0
    },
    "id": "mc4nn6Iv95yg",
    "outputId": "c9491cb7-8125-4632-e7f3-51b817c9d7e2"
   },
   "outputs": [
    {
     "name": "stdout",
     "output_type": "stream",
     "text": [
      "USING DEVICE: cpu\n"
     ]
    }
   ],
   "source": [
    "import torch\n",
    "import torchtext\n",
    "from torch.utils.data import Dataset, DataLoader\n",
    "from torch import tensor\n",
    "from torch.nn.utils.rnn import pad_sequence\n",
    "from torch.nn.functional import one_hot\n",
    "from warnings import warn\n",
    "\n",
    "np.random.seed(seed=33)\n",
    "\n",
    "DEVICE = 'cpu'  # torch.device('cuda' if torch.cuda.is_available() else 'cpu')\n",
    "\n",
    "print(f'USING DEVICE: {DEVICE}')"
   ]
  },
  {
   "cell_type": "code",
   "execution_count": 18,
   "metadata": {
    "id": "MIO7wl_Q95yg"
   },
   "outputs": [],
   "source": [
    "WORD_TO_POSITION_DEFDICT = autoIntDict(WORD_TO_POSITION_DICTIONARY)\n",
    "\n",
    "def update_mat_with_random_(n:int):\n",
    "  ''' Updates WEIGHT_MATRIX inplace by adding it n random vectors (appending\n",
    "  them to the 1st dimension.) '''\n",
    "  global WEIGHT_MATRIX, EMBEDDING_DIMENSION\n",
    "  n_random_embedding = np.random.uniform(low=-0.05, high=0.05, size=(n,EMBEDDING_DIMENSION))\n",
    "  WEIGHT_MATRIX = np.concatenate((WEIGHT_MATRIX, n_random_embedding))\n",
    "\n",
    "def apply_conversion(df, one_hot_dictionary=None, add_ = 0):\n",
    "  '''\n",
    "  Encodes a dataframe where each row looks like:\n",
    "    (Pierre, Vinken, ,, 61 ...  (NNP, NNP ...\n",
    "  by applying an incremental encoding to the 1st column (as possibly specified\n",
    "  by one_hot_dictionary) and a one-hot encoding to the 2nd:\n",
    "    [5029, 400000, 1, 4978 ...  [[tensor(0.,...), tensor(0.,...) ...\n",
    "  '''\n",
    "  global WORD_TO_POSITION_DEFDICT, N_OUT_FEATURES\n",
    "\n",
    "  def one_hot_pos(df_series, one_hot_dictionary=None):\n",
    "      \"\"\"\n",
    "      take a series of lists as the input data and one hot encodes based on the\n",
    "      number of unique values in the whole series\n",
    "      \"\"\"    \n",
    "      dic_values = \\\n",
    "        one_hot_dictionary if one_hot_dictionary \\\n",
    "        else {word:number for number,word in enumerate({ j for i in df_series for j in i })}\n",
    "\n",
    "      df_local = df_series.map(lambda _: tensor([dic_values[i] for i in _]))\n",
    "      df_local_one_hot = df_local.map(lambda x:one_hot(x, N_OUT_FEATURES).to(torch.float16))\n",
    "      return df_local_one_hot, dic_values\n",
    "\n",
    "  col1 = df.iloc[:,0].apply(lambda _: [WORD_TO_POSITION_DEFDICT[l.lower()]  for l in _ ])\n",
    "  col2, dic = one_hot_pos(df.iloc[:,1], one_hot_dictionary if one_hot_dictionary else None)\n",
    "  encoded_df = pd.DataFrame(zip(col1,col2), columns=df.columns)\n",
    "\n",
    "  update_mat_with_random_(WORD_TO_POSITION_DEFDICT.get_newly_added() + add_)  # +1 for <<UNK>> (use -1 to access)\n",
    "  \n",
    "  return (encoded_df, (None if one_hot_dictionary else dic))"
   ]
  },
  {
   "cell_type": "markdown",
   "metadata": {
    "id": "f-AN6aZSeGLM"
   },
   "source": [
    "Here we add the out of vocabulary terms to WORD_TO_POSITION_DEFDICT and a correspondent random embedding in WEIGHT_MATRIX.\n",
    "\n",
    "Note that this is done for the **training set** and for the **validation set**, but not for the test set here."
   ]
  },
  {
   "cell_type": "code",
   "execution_count": 19,
   "metadata": {
    "colab": {
     "base_uri": "https://localhost:8080/",
     "height": 0
    },
    "id": "A-JdQp59eBzn",
    "outputId": "bab9e6d1-078a-4769-cbed-fa9e497cacc9"
   },
   "outputs": [
    {
     "name": "stdout",
     "output_type": "stream",
     "text": [
      "from 400000 to 400359\n",
      "then to 400548\n"
     ]
    }
   ],
   "source": [
    "encoded_train_df, one_hot_dictionary = apply_conversion(train_df)\n",
    "print(f'from {len(WORD_TO_POSITION_DICTIONARY)} to {len(WORD_TO_POSITION_DEFDICT)}')\n",
    "\n",
    "encoded_val_df,   _                  = apply_conversion(val_df,one_hot_dictionary)\n",
    "print(f'then to {len(WORD_TO_POSITION_DEFDICT)}')\n",
    "\n",
    "if len(WORD_TO_POSITION_DICTIONARY)==len(WORD_TO_POSITION_DEFDICT):\n",
    "  warn('Nothing added! For this cell to be effective, re-run everything!')\n",
    "\n",
    "WORD_TO_POSITION_DICTIONARY = WORD_TO_POSITION_DEFDICT"
   ]
  },
  {
   "cell_type": "code",
   "execution_count": 20,
   "metadata": {
    "id": "aYR5nrRqukfC"
   },
   "outputs": [],
   "source": [
    "# Defining training, validation and test Dataset objects\n",
    "\n",
    "BATCH_SIZE = 1\n",
    "\n",
    "datasets = [CustomTextDataset(_) for _ in (encoded_train_df, encoded_val_df)]  #,encoded_test_df\n",
    "\n",
    "train_dataset, val_dataset = datasets  #,test_dataset\n",
    "\n",
    "train_dataloader, val_dataloader = \\\n",
    "  (DataLoader(_, batch_size=BATCH_SIZE, shuffle=False) for _ in datasets)  #,test_dataloader"
   ]
  },
  {
   "cell_type": "markdown",
   "metadata": {
    "id": "bB18cYsbj9jt"
   },
   "source": [
    "## Training functions and class weights"
   ]
  },
  {
   "cell_type": "markdown",
   "metadata": {
    "id": "d-QXqtzVjhi6"
   },
   "source": [
    "### Computation of the class weights"
   ]
  },
  {
   "cell_type": "code",
   "execution_count": 21,
   "metadata": {
    "colab": {
     "base_uri": "https://localhost:8080/",
     "height": 0
    },
    "id": "yifGty4fmbae",
    "outputId": "48048683-09c2-4dfe-90ca-f3c8eefa0828"
   },
   "outputs": [
    {
     "data": {
      "text/plain": [
       "(45,)"
      ]
     },
     "execution_count": 21,
     "metadata": {},
     "output_type": "execute_result"
    }
   ],
   "source": [
    "tag_per_class_dict = { _ : 0 for _ in one_hot_dictionary.keys()}\n",
    "for tags in train_df['POS']:\n",
    "   for t in tags:\n",
    "     for key in tag_per_class_dict.keys():\n",
    "      if t == key: tag_per_class_dict[t] += 1\n",
    "total_elem = np.sum(list(tag_per_class_dict.values()))\n",
    "\n",
    "reversed_dict = {value : key for (key, value) in one_hot_dictionary.items()}\n",
    "elem_per_class = np.zeros(N_OUT_FEATURES)\n",
    "for key in tag_per_class_dict.keys():\n",
    "  for i in range(len(reversed_dict)):\n",
    "    if key == reversed_dict[i]: elem_per_class[i] = tag_per_class_dict[key]\n",
    "\n",
    "CLASS_WEIGHTS = (total_elem/(elem_per_class*N_OUT_FEATURES))\n",
    "\n",
    "CLASS_WEIGHTS.shape"
   ]
  },
  {
   "cell_type": "markdown",
   "metadata": {
    "id": "cLxQbgoLjs6g"
   },
   "source": [
    "### Training and evaluation functions"
   ]
  },
  {
   "cell_type": "code",
   "execution_count": 22,
   "metadata": {
    "id": "S0_Gq4XZ95yj"
   },
   "outputs": [],
   "source": [
    "import time, string\n",
    "from sklearn.metrics import f1_score\n",
    "\n",
    "PUNCT = set(string.punctuation) \n",
    "no_punct_labels = [_ for k, _ in one_hot_dictionary.items() if not set(k).issubset(PUNCT)]\n",
    "\n",
    "# converts on-the-fly a tensor of probabilities into a one-hot representation, 3rd-dimension-wise:\n",
    "labels_2_onehot = lambda _ : one_hot(_.argmax(2), N_OUT_FEATURES).to(torch.float16)\n",
    "\n",
    "# Computes the n. of correct predictions, given  two 3d tensors, the predictions and the gold standard.\n",
    "n_correct_predicts = lambda oh_predicted, oh_gold : (oh_predicted.argmax(2) == oh_gold.argmax(2)).sum().item()\n",
    "\n",
    "def train(dataloader, model, optimizer, epoch=None, criterion=torch.nn.CrossEntropyLoss(), verbose=True):\n",
    "    model.train()\n",
    "    total_acc, total_count = 0, 0\n",
    "    log_interval = 500\n",
    "    start_time = time.time()\n",
    "    losses = []\n",
    "\n",
    "    for idx, (label, text) in enumerate(dataloader):\n",
    "        optimizer.zero_grad()                                     # Zeros the gradient that are accumulated by default\n",
    "        predicted_label = model(text)                             # Will call 'forward' method of the model\n",
    "        if predicted_label.shape[1]<=1:\n",
    "          continue\n",
    "        loss = criterion(predicted_label.squeeze(),\n",
    "                         label.squeeze().max(dim=1)[1])           # Use loss.item() to visualize \n",
    "        loss.backward()                                           # Computes the gradients\n",
    "        losses.append(loss.item())        \n",
    "        torch.nn.utils.clip_grad_norm_(model.parameters(), 0.1)   # Gradient clipping\n",
    "        optimizer.step()                                          # Updates parameters\n",
    "        predicted_label2 = labels_2_onehot(predicted_label)\n",
    "        total_acc += n_correct_predicts(predicted_label2, label)\n",
    "        total_count += label.size(dim=1)                          \n",
    "\n",
    "        if idx % log_interval == 0 and idx > 0:\n",
    "            elapsed = time.time() - start_time\n",
    "            if verbose:\n",
    "              print(f'| epoch {(epoch if epoch else 0):3d} | {idx:5d}/{len(dataloader):5d} batches | accuracy { total_acc/total_count:8.3f}')\n",
    "            total_acc, total_count = 0, 0\n",
    "            start_time = time.time()\n",
    "            \n",
    "    return losses, total_acc/total_count\n",
    "\n",
    "def evaluate(dataloader, model, criterion=torch.nn.CrossEntropyLoss(), retain=False):\n",
    "    ''' Evaluates 'model' over the dataloader.\n",
    "      Returns the history of the loss values and the tag-level accuracy.\n",
    "    '''\n",
    "    global labels_2_onehot\n",
    "    model.eval()\n",
    "    accumulated_good_pred, total_count = 0, 0\n",
    "    val_steps = 0.0, 0\n",
    "    accumulated_loss, history = [], []\n",
    "    with torch.no_grad():\n",
    "        for idx, (label, text) in enumerate(dataloader):\n",
    "            predicted_label = model(text)\n",
    "            if predicted_label.shape[1]<=1:\n",
    "              continue\n",
    "            loss = criterion(predicted_label.squeeze(), label.squeeze().max(dim=1)[1]) \n",
    "            m = labels_2_onehot(predicted_label)\n",
    "            accumulated_good_pred += n_correct_predicts(m, label)\n",
    "            total_count += label.size(dim=1)\n",
    "            accumulated_loss.append(loss.item())\n",
    "            if retain:\n",
    "              y_true = label.argmax(2).numpy()[0]\n",
    "              y_pred = m.argmax(2).numpy()[0]\n",
    "              history += zip(y_true, y_pred)\n",
    "    return accumulated_loss, accumulated_good_pred/total_count, history"
   ]
  },
  {
   "cell_type": "markdown",
   "metadata": {
    "id": "WUNuVaLOmuF4"
   },
   "source": [
    "### Training loop"
   ]
  },
  {
   "cell_type": "code",
   "execution_count": 23,
   "metadata": {
    "id": "ILzC5xE_BU2d"
   },
   "outputs": [],
   "source": [
    "def get_metric_only_tbi(labels_and_pred_accum, tbi, metric, additional_pars=([],{})):\n",
    "    '''Given a list of tuples <y_true, y_pred> in labels_and_pred_accum, computes a\n",
    "    metric/function only including in the computation all the couples that include in one\n",
    "    of the two positions a label present in tbi (to be included). '''\n",
    "    labels_accum, pred_accum = zip(*labels_and_pred_accum)\n",
    "    masked_labels = np.isin(labels_accum, tbi)\n",
    "    masked_pred   = np.isin(pred_accum,   tbi)\n",
    "    y_true = np.array(labels_accum)[np.logical_and(masked_labels, masked_pred)]\n",
    "    y_pred = np.array(pred_accum)  [np.logical_and(masked_labels, masked_pred)]\n",
    "    return metric(y_true, y_pred, *additional_pars[0], **additional_pars[1])\n",
    "\n",
    "def get_f1_score(labels_and_pred_accum, tbe):\n",
    "    ''' starting from a list of couples (y_true, y_pred), computes the macro-avg\n",
    "    f1-score ignoring the labels in tbe (to be excluded) both in y_true and y_pred\n",
    "    '''\n",
    "    return get_metric_only_tbi(labels_and_pred_accum, tbe, f1_score, ([],{'average':'macro'}))"
   ]
  },
  {
   "cell_type": "code",
   "execution_count": 24,
   "metadata": {
    "id": "z_BLXlLPKitw"
   },
   "outputs": [],
   "source": [
    "def train_loop(\n",
    "    create_model,\n",
    "    train_dataloader,\n",
    "    val_dataloader,\n",
    "    params = {'hidden': 256, 'LR_Adam': 0.0001},\n",
    "    criterion = torch.nn.CrossEntropyLoss(),\n",
    "    scheduler_ = torch.optim.lr_scheduler.StepLR,\n",
    "    create_optimizer = 'default',\n",
    "    scheduler_parr = {'step_size': 8, 'gamma':.1},\n",
    "    epochs = 20,\n",
    "    early_stop_patience = 3,\n",
    "    verbose = False,\n",
    "    return_last_checkpoint = False\n",
    "):\n",
    "  global train, evaluate, no_punct_labels\n",
    "  highlight = lambda _:f'{\"-\"*(len(_)+4)}\\n  {_}\\n{\"-\"*(len(_)+4)}'\n",
    "  try:\n",
    "      model = create_model(hidden=params['hidden'])\n",
    "      if create_optimizer=='default':\n",
    "        create_optimizer = lambda model_pars: torch.optim.Adam(model_pars, lr=0.0001)\n",
    "      optimizer = create_optimizer(model.parameters())\n",
    "      scheduler = scheduler_(optimizer = optimizer, **scheduler_parr)\n",
    "      total_accu = None\n",
    "      last_loss = 100\n",
    "      trigger_times = 0\n",
    "      metrics = {'train_loss': [],\n",
    "                  'val_loss': [],\n",
    "                  'train_loss_hist': [],\n",
    "                  'train_acc': [],\n",
    "                  'val_acc': [],\n",
    "                  'f1_score': 0}\n",
    "\n",
    "      for epoch in range(1, epochs + 1):\n",
    "          epoch_start_time = time.time()\n",
    "          losses_train, accu_train = train(train_dataloader, model, optimizer, verbose=verbose, criterion=criterion, epoch=epoch)\n",
    "          loss_vals, accu_val, hist = evaluate(val_dataloader, model, criterion=criterion, retain=True)\n",
    "          current_val_loss = np.mean(loss_vals)\n",
    "\n",
    "          metrics['train_loss'].append(np.mean(losses_train))\n",
    "          metrics['val_loss'].append(current_val_loss)\n",
    "          metrics['train_loss_hist'].append(losses_train)\n",
    "          metrics['train_acc'].append(accu_train)\n",
    "          metrics['val_acc'].append(accu_val)\n",
    "\n",
    "          if total_accu is not None and total_accu > accu_val:\n",
    "            scheduler.step()\n",
    "          else: total_accu = accu_val\n",
    "          if verbose:\n",
    "            print(highlight(f'| end of epoch {epoch:3d} | time: {time.time() - epoch_start_time:5.2f}s | '\n",
    "              f'valid accuracy {accu_val:8.3f} | valid loss:{current_val_loss:8.3f}'))\n",
    "          else:\n",
    "            print(end=f\"\\rDoing epoch: {epoch:2}\", flush=True)\n",
    "          \n",
    "          #Early stopping\n",
    "          if current_val_loss > last_loss:\n",
    "            trigger_times += 1\n",
    "            if trigger_times >= early_stop_patience:\n",
    "              print(\"\\n === Early Stopping ===\\n\")\n",
    "              metrics['f1_score'] = get_f1_score(hist, no_punct_labels)\n",
    "              print(\"\\rVal_accuracy: \", accu_val, ' - F1-score: ', metrics['f1_score'])\n",
    "              break\n",
    "          else:  trigger_times = 0\n",
    "          last_loss = current_val_loss\n",
    "\n",
    "          if epoch==epochs:\n",
    "            metrics['f1_score'] = get_f1_score(hist, no_punct_labels)\n",
    "            print(\"\\rVal_accuracy: \", accu_val, ' - F1-score: ', metrics['f1_score'])\n",
    "      print()\n",
    "  #except KeyboardInterrupt:\n",
    "  #    print('\\n === Manually aborted ===')\n",
    "  except Exception: raise\n",
    "  finally:\n",
    "      if return_last_checkpoint:\n",
    "        cp = {\n",
    "            'model_state_dict': model.state_dict(),\n",
    "            'optimizer_state_dict': optimizer.state_dict(),\n",
    "        }\n",
    "        return model, metrics, cp\n",
    "      else: return model, metrics"
   ]
  },
  {
   "cell_type": "markdown",
   "metadata": {
    "id": "xapzwyg5n3pj"
   },
   "source": [
    "### Print plots function"
   ]
  },
  {
   "cell_type": "code",
   "execution_count": 25,
   "metadata": {
    "id": "BdnTlQpzN89f"
   },
   "outputs": [],
   "source": [
    "import matplotlib.pyplot as plt\n",
    "%matplotlib inline\n",
    "\n",
    "def print_plots(metrics, complete_loss=False, size=(20,7)):\n",
    "    fig, (ax1, ax2) = plt.subplots(1, 2)\n",
    "    fig.set_size_inches(*size)\n",
    "\n",
    "    ax1.plot(metrics['train_loss'], '.-')\n",
    "    ax1.plot(metrics['val_loss'], '.-')\n",
    "    ax1.grid(True)\n",
    "    if complete_loss:\n",
    "      ax1.plot(metrics['train_loss_hist'], '.')\n",
    "      ax1.set_ylim(0, np.max(metrics['train_loss_hist'])*1.1)\n",
    "    else:\n",
    "      ax1.set_ylim(0, np.max(metrics['val_loss']+metrics['train_loss'])*1.1)\n",
    "    ax1.set_title('model loss')\n",
    "    ax1.set_ylabel('loss')\n",
    "    ax1.set_xlabel('epochs')\n",
    "    ax1.set_xticks(range(len(metrics['train_loss'])))\n",
    "    leg_lab = ['train_loss', 'val_loss']\n",
    "    ax1.legend(leg_lab + ['train_complete_loss'] if complete_loss else leg_lab,\n",
    "               loc='upper right')\n",
    "    m1, m2 = np.max(metrics['train_acc']), np.max(metrics['val_acc'])\n",
    "    ax2.axhline(y=m1, color='gray', linestyle='-.')\n",
    "    ax2.axhline(y=m2, color='gray', linestyle='-.')\n",
    "    ax2.plot(metrics['train_acc'], '.-')\n",
    "    ax2.plot(metrics['val_acc'], '.-')\n",
    "    ax2.set_title('model accuracy')\n",
    "    ax2.set_ylabel('accuracy')\n",
    "    ax2.set_xlabel('epochs')\n",
    "    ax2.set_xticks(range(len(metrics['train_loss'])))\n",
    "    ticks_ = list(ax2.get_yticks())+[m1,m2]\n",
    "    ax2.set_yticks(ticks=ticks_)\n",
    "    ax2.set_yticklabels([f'{_:.2}' for _ in ticks_])\n",
    "    ax2.grid(True)\n",
    "    ax2.legend(['train_acc', 'val_acc'], loc='lower right')\n",
    "    plt.show()"
   ]
  },
  {
   "cell_type": "markdown",
   "metadata": {
    "id": "T8A2EWQbk28k"
   },
   "source": [
    "### Hyperparameter tuning functions"
   ]
  },
  {
   "cell_type": "code",
   "execution_count": 26,
   "metadata": {
    "id": "A6EI8ohHJR93"
   },
   "outputs": [],
   "source": [
    "def tune(\n",
    "    create_model,\n",
    "    train_dataloader,\n",
    "    val_dataloader,\n",
    "    param_dict,\n",
    "    criterion=torch.nn.CrossEntropyLoss(),\n",
    "    scheduler_ = torch.optim.lr_scheduler.StepLR,\n",
    "    scheduler_parr = {'step_size':8, 'gamma':.1},\n",
    "    epochs = 12,\n",
    "    early_stop_patience = 3,\n",
    "    verbose = False\n",
    "):\n",
    "  global train, evaluate\n",
    "  results = pd.DataFrame(columns=list(param_dict.keys()) + [\"val_accuracy\"] + [\"F1_score\"])\n",
    "  try:\n",
    "    for opt in param_dict['optimizer']:\n",
    "        for LR in param_dict['learning_rate'][opt]:\n",
    "            for hidden in param_dict['hidden_size']:\n",
    "                model = create_model(hidden=hidden)\n",
    "                optimizer = torch.optim.Adam(model.parameters(), lr=LR) if opt==\"Adam\" else torch.optim.SGD(model.parameters(), lr=LR)\n",
    "                scheduler = scheduler_(optimizer = optimizer, **scheduler_parr)\n",
    "                total_accu = None\n",
    "                last_loss = 100\n",
    "                trigger_times = 0\n",
    "                print(f\"Optimizer: {opt} | LR = {LR} | Hidden_size = {hidden}\")\n",
    "                for epoch in range(1, epochs + 1):\n",
    "                    epoch_start_time = time.time()\n",
    "                    train(train_dataloader, model, optimizer, verbose=verbose, criterion=criterion)\n",
    "                    loss_vals, accu_val, labels_and_pred_accum = evaluate(val_dataloader, model, criterion=criterion, retain=True)\n",
    "                    current_val_loss = np.mean(loss_vals)\n",
    "                    if total_accu is not None and total_accu > accu_val:\n",
    "                      scheduler.step()\n",
    "                    else: total_accu = accu_val\n",
    "                    print(end=f\"\\rDoing epoch: {epoch:2}\", flush=True)\n",
    "                    if epoch==epochs: \n",
    "                      final_f1_score = get_f1_score(labels_and_pred_accum)\n",
    "                      print(f\"\\rVal_accuracy: {accu_val}, F1-score: {final_f1_score}\")\n",
    "                      results = results.append({\"optimizer\": opt, \"learning_rate\": LR, \"hidden_size\": hidden, \"val_accuracy\": accu_val,\\\n",
    "                                                \"F1_score\": final_f1_score}, ignore_index=True)\n",
    "                    #Early stopping\n",
    "                    if current_val_loss > last_loss:\n",
    "                      trigger_times += 1\n",
    "                      if trigger_times >= early_stop_patience:\n",
    "                        final_f1_score = get_f1_score(labels_and_pred_accum)\n",
    "                        results = results.append({\"optimizer\": opt, \"learning_rate\": LR, \"hidden_size\": hidden, \"val_accuracy\": accu_val,\\\n",
    "                                                \"F1_score\": final_f1_score}, ignore_index=True)\n",
    "                        print(f\"Val_accuracy: {accu_val}, F1-score: {final_f1_score}\")\n",
    "                        print(\" === Early Stopping === \")\n",
    "                        break\n",
    "                    else:  trigger_times = 0\n",
    "                    last_loss = current_val_loss\n",
    "                print()\n",
    "  except KeyboardInterrupt:\n",
    "    print('\\n === Manually aborted, returning results so far. ===')\n",
    "  finally:\n",
    "    return results"
   ]
  },
  {
   "cell_type": "markdown",
   "metadata": {
    "id": "kfPq8siu95yi"
   },
   "source": [
    "## Baseline Model (Bi-LSTM + FC) and Utilities\n",
    "\n"
   ]
  },
  {
   "cell_type": "markdown",
   "metadata": {
    "id": "-WFuCdsEr9KP"
   },
   "source": [
    "### Utility functions"
   ]
  },
  {
   "cell_type": "code",
   "execution_count": 27,
   "metadata": {
    "id": "eaa0wZsJ95yi"
   },
   "outputs": [],
   "source": [
    "def set_requires_grad_for_layer(layer, train):\n",
    "    \"\"\" Sets the attribute 'requires_grad' to True or False (as specified by\n",
    "    train) for each parameter in 'layer'. \"\"\"\n",
    "    for p in layer.parameters():\n",
    "        p.requires_grad = train"
   ]
  },
  {
   "cell_type": "markdown",
   "metadata": {
    "id": "mO3_g66msCwY"
   },
   "source": [
    "### Model definition"
   ]
  },
  {
   "cell_type": "code",
   "execution_count": 30,
   "metadata": {
    "id": "5odOe2FJ95yi"
   },
   "outputs": [],
   "source": [
    "import torch.nn as nn\n",
    "\n",
    "class Base_RCNN (nn.Module):\n",
    "    ''' NN that includes: a non-trained embedding, a LSTM module and a FC layer.'''\n",
    "    \n",
    "    def __init__(self, n_output, hidden=32, **_): \n",
    "      global WEIGHT_MATRIX\n",
    "      super(Base_RCNN, self).__init__()\n",
    "      self.embedding = nn.Embedding(*WEIGHT_MATRIX.shape)  \n",
    "      self.embedding.weight = nn.Parameter(torch.from_numpy(WEIGHT_MATRIX))\n",
    "      set_requires_grad_for_layer(self.embedding, False)\n",
    "      self.lstm = nn.LSTM(  \n",
    "          input_size=WEIGHT_MATRIX.shape[1],\n",
    "          hidden_size=hidden,\n",
    "          bidirectional=True,\n",
    "          batch_first=True # If True, in and out tensors are provided as (batch,seq,feature), vs (seq,batch,feature)\n",
    "      )\n",
    "      self.fc = nn.Linear(in_features=hidden*2, out_features=n_output)\n",
    "      \n",
    "    def forward(self,x):\n",
    "      \"forward pass of the NN the only input must be an iterable of words\"\n",
    "      x = self.embedding(tensor(x))\n",
    "      x, _ = self.lstm(torch.reshape(x,(1,*x.size())).to(torch.float32))\n",
    "      return self.fc(x)\n",
    "\n",
    "    def update_embeddings(self):\n",
    "      ''' To re-align the (non-trainable!) embedding layer and WEIGHT_MATRIX.'''\n",
    "      self.embedding = nn.Embedding(*WEIGHT_MATRIX.shape)  \n",
    "      self.embedding.weight = nn.Parameter(torch.from_numpy(WEIGHT_MATRIX))\n",
    "      set_requires_grad_for_layer(self.embedding, False)"
   ]
  },
  {
   "cell_type": "markdown",
   "metadata": {
    "id": "OdgUbuqTo887"
   },
   "source": [
    "### HP tuning"
   ]
  },
  {
   "cell_type": "code",
   "execution_count": null,
   "metadata": {
    "id": "QVYd0qI6pHqr"
   },
   "outputs": [],
   "source": [
    "'''results = tune(\n",
    "    lambda **pp: Base_RCNN(N_OUT_FEATURES, **pp),\n",
    "    train_dataloader,\n",
    "    val_dataloader,\n",
    "    { \"optimizer\": [\"Adam\",\"SGD\"],\n",
    "      \"learning_rate\": { \"Adam\": np.linspace(0.00008, 0.0003, num=4), \"SGD\": np.linspace(0.3, 0.7, num=3)},\n",
    "      \"hidden_size\": [64, 128]},\n",
    "    epochs=20\n",
    ")\n",
    "best_configuration = results[results[\"F1_score\"] == max(results[\"F1_score\"])]\n",
    "best_configuration\n",
    "''';"
   ]
  },
  {
   "cell_type": "markdown",
   "metadata": {
    "id": "Nn931yxH2qlD"
   },
   "source": [
    "Best configuration: Adam | LR = 0.0001 | Hidden = 256"
   ]
  },
  {
   "cell_type": "markdown",
   "metadata": {
    "id": "WYSjLRw1nqNe"
   },
   "source": [
    "### Utilities for model save/load operations"
   ]
  },
  {
   "cell_type": "code",
   "execution_count": 28,
   "metadata": {
    "id": "7r_fWzqKUP4p"
   },
   "outputs": [],
   "source": [
    "from torch.nn import parameter\n",
    "from enum import Enum\n",
    "\n",
    "Modes = Enum('', 'LOAD TRAIN_ONLY TRAIN_AND_SAVE')\n",
    "\n",
    "def checkpoint_model(model, path, other_pars = dict()):\n",
    "  return torch.save({'model': model, **other_pars}, path)\n",
    "\n",
    "def load_model(path, optimizer_class=torch.optim.Adam, optim_parr=([],{'lr':0.0001}), set_to='eval'):\n",
    "  checkpoint = torch.load(path)\n",
    "  model = checkpoint['model']\n",
    "  model.load_state_dict(checkpoint['model_state_dict'])\n",
    "  optimizer = optimizer_class(model.parameters(), *optim_parr[0], **optim_parr[1])\n",
    "  optimizer.load_state_dict(checkpoint['optimizer_state_dict'])\n",
    "  if set_to=='eval': model.eval()\n",
    "  else: model.train()\n",
    "  return model, optimizer, checkpoint['metrics']"
   ]
  },
  {
   "cell_type": "markdown",
   "metadata": {
    "id": "NebFBYSCjC07"
   },
   "source": [
    "### Training model 1 with best hyperparameters"
   ]
  },
  {
   "cell_type": "code",
   "execution_count": null,
   "metadata": {
    "colab": {
     "base_uri": "https://localhost:8080/"
    },
    "id": "Bh8okppVnuBX",
    "outputId": "7b9d79f4-4a10-4790-879d-35535d515999"
   },
   "outputs": [
    {
     "name": "stdout",
     "output_type": "stream",
     "text": [
      "| epoch   1 |   500/ 1963 batches | accuracy    0.188\n",
      "| epoch   1 |  1000/ 1963 batches | accuracy    0.416\n",
      "| epoch   1 |  1500/ 1963 batches | accuracy    0.601\n",
      "--------------------------------------------------------------------------------------\n",
      "  | end of epoch   1 | time: 120.26s | valid accuracy    0.689 | valid loss:   1.570\n",
      "--------------------------------------------------------------------------------------\n",
      "| epoch   2 |   500/ 1963 batches | accuracy    0.719\n",
      "| epoch   2 |  1000/ 1963 batches | accuracy    0.750\n",
      "| epoch   2 |  1500/ 1963 batches | accuracy    0.769\n",
      "--------------------------------------------------------------------------------------\n",
      "  | end of epoch   2 | time: 131.19s | valid accuracy    0.777 | valid loss:   0.991\n",
      "--------------------------------------------------------------------------------------\n",
      "| epoch   3 |   500/ 1963 batches | accuracy    0.801\n",
      "| epoch   3 |  1000/ 1963 batches | accuracy    0.811\n",
      "| epoch   3 |  1500/ 1963 batches | accuracy    0.820\n",
      "--------------------------------------------------------------------------------------\n",
      "  | end of epoch   3 | time: 129.77s | valid accuracy    0.812 | valid loss:   0.795\n",
      "--------------------------------------------------------------------------------------\n",
      "| epoch   4 |   500/ 1963 batches | accuracy    0.835\n",
      "| epoch   4 |  1000/ 1963 batches | accuracy    0.840\n",
      "| epoch   4 |  1500/ 1963 batches | accuracy    0.845\n",
      "--------------------------------------------------------------------------------------\n",
      "  | end of epoch   4 | time: 127.56s | valid accuracy    0.831 | valid loss:   0.697\n",
      "--------------------------------------------------------------------------------------\n",
      "| epoch   5 |   500/ 1963 batches | accuracy    0.857\n",
      "| epoch   5 |  1000/ 1963 batches | accuracy    0.859\n",
      "| epoch   5 |  1500/ 1963 batches | accuracy    0.860\n",
      "--------------------------------------------------------------------------------------\n",
      "  | end of epoch   5 | time: 120.14s | valid accuracy    0.842 | valid loss:   0.637\n",
      "--------------------------------------------------------------------------------------\n",
      "| epoch   6 |   500/ 1963 batches | accuracy    0.871\n",
      "| epoch   6 |  1000/ 1963 batches | accuracy    0.873\n",
      "| epoch   6 |  1500/ 1963 batches | accuracy    0.873\n",
      "--------------------------------------------------------------------------------------\n",
      "  | end of epoch   6 | time: 113.55s | valid accuracy    0.849 | valid loss:   0.598\n",
      "--------------------------------------------------------------------------------------\n",
      "| epoch   7 |   500/ 1963 batches | accuracy    0.883\n",
      "| epoch   7 |  1000/ 1963 batches | accuracy    0.883\n",
      "| epoch   7 |  1500/ 1963 batches | accuracy    0.886\n",
      "--------------------------------------------------------------------------------------\n",
      "  | end of epoch   7 | time: 112.68s | valid accuracy    0.854 | valid loss:   0.572\n",
      "--------------------------------------------------------------------------------------\n",
      "| epoch   8 |   500/ 1963 batches | accuracy    0.894\n",
      "| epoch   8 |  1000/ 1963 batches | accuracy    0.893\n",
      "| epoch   8 |  1500/ 1963 batches | accuracy    0.896\n",
      "--------------------------------------------------------------------------------------\n",
      "  | end of epoch   8 | time: 117.66s | valid accuracy    0.858 | valid loss:   0.555\n",
      "--------------------------------------------------------------------------------------\n",
      "| epoch   9 |   500/ 1963 batches | accuracy    0.904\n",
      "| epoch   9 |  1000/ 1963 batches | accuracy    0.903\n",
      "| epoch   9 |  1500/ 1963 batches | accuracy    0.903\n",
      "--------------------------------------------------------------------------------------\n",
      "  | end of epoch   9 | time: 111.84s | valid accuracy    0.860 | valid loss:   0.544\n",
      "--------------------------------------------------------------------------------------\n",
      "| epoch  10 |   500/ 1963 batches | accuracy    0.911\n",
      "| epoch  10 |  1000/ 1963 batches | accuracy    0.912\n",
      "| epoch  10 |  1500/ 1963 batches | accuracy    0.912\n",
      "--------------------------------------------------------------------------------------\n",
      "  | end of epoch  10 | time: 110.51s | valid accuracy    0.862 | valid loss:   0.539\n",
      "--------------------------------------------------------------------------------------\n",
      "| epoch  11 |   500/ 1963 batches | accuracy    0.919\n",
      "| epoch  11 |  1000/ 1963 batches | accuracy    0.921\n",
      "| epoch  11 |  1500/ 1963 batches | accuracy    0.921\n",
      "--------------------------------------------------------------------------------------\n",
      "  | end of epoch  11 | time: 109.91s | valid accuracy    0.863 | valid loss:   0.537\n",
      "--------------------------------------------------------------------------------------\n",
      "| epoch  12 |   500/ 1963 batches | accuracy    0.926\n",
      "| epoch  12 |  1000/ 1963 batches | accuracy    0.927\n",
      "| epoch  12 |  1500/ 1963 batches | accuracy    0.930\n",
      "--------------------------------------------------------------------------------------\n",
      "  | end of epoch  12 | time: 109.61s | valid accuracy    0.864 | valid loss:   0.539\n",
      "--------------------------------------------------------------------------------------\n",
      "| epoch  13 |   500/ 1963 batches | accuracy    0.933\n",
      "| epoch  13 |  1000/ 1963 batches | accuracy    0.935\n",
      "| epoch  13 |  1500/ 1963 batches | accuracy    0.936\n",
      "--------------------------------------------------------------------------------------\n",
      "  | end of epoch  13 | time: 109.03s | valid accuracy    0.864 | valid loss:   0.544\n",
      "--------------------------------------------------------------------------------------\n",
      "| epoch  14 |   500/ 1963 batches | accuracy    0.940\n",
      "| epoch  14 |  1000/ 1963 batches | accuracy    0.941\n",
      "| epoch  14 |  1500/ 1963 batches | accuracy    0.943\n",
      "--------------------------------------------------------------------------------------\n",
      "  | end of epoch  14 | time: 111.08s | valid accuracy    0.863 | valid loss:   0.556\n",
      "--------------------------------------------------------------------------------------\n",
      "\n",
      " === Early Stopping ===\n",
      "\n",
      "\n",
      "Val_accuracy:  0.862938139370811  - F1-score:  0.7310836323567128\n",
      "\n"
     ]
    }
   ],
   "source": [
    "PRELOAD = False\n",
    "MODE = Modes.TRAIN_AND_SAVE\n",
    "SAVED_FNAME = '/content/drive/MyDrive/model1'\n",
    "\n",
    "if MODE is not Modes.LOAD:\n",
    "  if PRELOAD:\n",
    "    s_model, s_optim, _ = load_model(SAVED_FNAME, set_to='train')\n",
    "    print('model loaded from file')\n",
    "  model_1, metrics_1, cp_pars = train_loop (\n",
    "      lambda **pp:  (s_model if PRELOAD else Base_RCNN(N_OUT_FEATURES, **pp)),\n",
    "      train_dataloader,\n",
    "      val_dataloader,\n",
    "      criterion = torch.nn.CrossEntropyLoss(weight=tensor(CLASS_WEIGHTS).to(torch.float32)),\n",
    "      create_optimizer = (lambda _: s_optim) if PRELOAD else 'default',\n",
    "      verbose=True,\n",
    "      params = {'hidden': 256, 'LR_Adam': 0.0001},  #256\n",
    "      epochs = 25,\n",
    "      return_last_checkpoint=True\n",
    "  )\n",
    "  if MODE is Modes.TRAIN_AND_SAVE:\n",
    "    checkpoint_model(model_1, SAVED_FNAME, {**cp_pars, 'metrics':metrics_1})\n",
    "else:\n",
    "  model_1, _, metrics_1 = load_model(SAVED_FNAME, set_to='train')\n"
   ]
  },
  {
   "cell_type": "code",
   "execution_count": null,
   "metadata": {
    "colab": {
     "base_uri": "https://localhost:8080/",
     "height": 458
    },
    "id": "S2uYQ78pYXLi",
    "outputId": "3562a8ff-8522-44a7-d948-278561358c07"
   },
   "outputs": [
    {
     "data": {
      "image/png": "[encoded data removed]",
      "text/plain": [
       "<Figure size 1440x504 with 2 Axes>"
      ]
     },
     "metadata": {
      "needs_background": "light"
     },
     "output_type": "display_data"
    }
   ],
   "source": [
    "print_plots(metrics_1)"
   ]
  },
  {
   "cell_type": "markdown",
   "metadata": {
    "id": "GUQZM0ctUEjl"
   },
   "source": [
    "## BiGRU + FC Model"
   ]
  },
  {
   "cell_type": "markdown",
   "metadata": {
    "id": "QsbbPOuTrmWq"
   },
   "source": [
    "### Model definition"
   ]
  },
  {
   "cell_type": "code",
   "execution_count": 31,
   "metadata": {
    "id": "CblO1tV_UdG5"
   },
   "outputs": [],
   "source": [
    "class BiGRU(Base_RCNN):\n",
    "    \"\"\" Class Modelling the RCNN \"\"\"\n",
    "    def __init__(self, n_output=2, hidden=32, **_):\n",
    "      \"\"\"\n",
    "      Args:\n",
    "          n_output: nunber of output classes for the POS task\n",
    "          # NO  oov_method : method to address words that are out of vocabulary \n",
    "          # NO  num_of_words: number of words to be inputted inside the neural network at a time\n",
    "          # REPL_W_MAT embedding_model:initial (and final) vector embedding of the words in the known vocabulary\n",
    "\n",
    "       \"\"\"\n",
    "      super(BiGRU, self).__init__(n_output)\n",
    "      \n",
    "      self.embedding = nn.Embedding(*WEIGHT_MATRIX.shape)\n",
    "      self.embedding.weight = nn.Parameter(torch.from_numpy(WEIGHT_MATRIX))\n",
    "      set_requires_grad_for_layer(self.embedding, False)\n",
    "      self.gru = nn.GRU(input_size=WEIGHT_MATRIX.shape[1], hidden_size=hidden, bidirectional=True,batch_first=True)\n",
    "      self.fc = nn.Linear(in_features=hidden*2, out_features=n_output)\n",
    "      \n",
    "    def forward(self,x):\n",
    "      \"forward pass of the NN the only input must be an iterable of words\"\n",
    "      x = self.embedding(tensor(x))\n",
    "      x,_ = self.gru(torch.reshape(x,(1,*x.size())).to(torch.float32))\n",
    "      return self.fc(x)"
   ]
  },
  {
   "cell_type": "markdown",
   "metadata": {
    "id": "TuqEfZ8Iq8V6"
   },
   "source": [
    "### HP tuning"
   ]
  },
  {
   "cell_type": "code",
   "execution_count": null,
   "metadata": {
    "id": "PXA8oEKraAo8"
   },
   "outputs": [],
   "source": [
    "'''results = tune(\n",
    "    lambda **pp:  BiGRU(N_OUT_FEATURES, **pp),\n",
    "    train_dataloader,\n",
    "    val_dataloader,\n",
    "    { \"optimizer\": [\"Adam\",\"SGD\"],\n",
    "      \"learning_rate\": { \"Adam\": np.linspace(0.00008, 0.0003, num=4), \"SGD\": np.linspace(0.3, 0.7, num=3)},\n",
    "      \"hidden_size\": [64, 128]},\n",
    "    epochs = 20\n",
    ")\n",
    "\n",
    "best_configuration = results[results[\"F1_score\"] == max(results[\"F1_score\"])]\n",
    "best_configuration\n",
    "''';"
   ]
  },
  {
   "cell_type": "markdown",
   "metadata": {
    "id": "Wvp-b0HV3OqB"
   },
   "source": [
    "Best configuration: Adam | LR = 0.0001 | Hidden = 256"
   ]
  },
  {
   "cell_type": "markdown",
   "metadata": {
    "id": "Mb7yw2a9rH1z"
   },
   "source": [
    "### Training the model 2 with best Hyperparameters"
   ]
  },
  {
   "cell_type": "code",
   "execution_count": 32,
   "metadata": {
    "colab": {
     "base_uri": "https://localhost:8080/",
     "height": 0
    },
    "id": "UgHtWnpnre3j",
    "outputId": "bd4329ea-9734-4d44-c39c-48cd1237a1d3"
   },
   "outputs": [
    {
     "name": "stdout",
     "output_type": "stream",
     "text": [
      "| epoch   1 |   500/ 1963 batches | accuracy    0.320\n",
      "| epoch   1 |  1000/ 1963 batches | accuracy    0.583\n",
      "| epoch   1 |  1500/ 1963 batches | accuracy    0.703\n",
      "--------------------------------------------------------------------------------------\n",
      "  | end of epoch   1 | time: 122.90s | valid accuracy    0.738 | valid loss:   1.189\n",
      "--------------------------------------------------------------------------------------\n",
      "| epoch   2 |   500/ 1963 batches | accuracy    0.767\n",
      "| epoch   2 |  1000/ 1963 batches | accuracy    0.792\n",
      "| epoch   2 |  1500/ 1963 batches | accuracy    0.811\n",
      "--------------------------------------------------------------------------------------\n",
      "  | end of epoch   2 | time: 110.15s | valid accuracy    0.810 | valid loss:   0.824\n",
      "--------------------------------------------------------------------------------------\n",
      "| epoch   3 |   500/ 1963 batches | accuracy    0.824\n",
      "| epoch   3 |  1000/ 1963 batches | accuracy    0.837\n",
      "| epoch   3 |  1500/ 1963 batches | accuracy    0.843\n",
      "--------------------------------------------------------------------------------------\n",
      "  | end of epoch   3 | time: 131.15s | valid accuracy    0.833 | valid loss:   0.696\n",
      "--------------------------------------------------------------------------------------\n",
      "| epoch   4 |   500/ 1963 batches | accuracy    0.852\n",
      "| epoch   4 |  1000/ 1963 batches | accuracy    0.859\n",
      "| epoch   4 |  1500/ 1963 batches | accuracy    0.862\n",
      "--------------------------------------------------------------------------------------\n",
      "  | end of epoch   4 | time: 120.10s | valid accuracy    0.846 | valid loss:   0.624\n",
      "--------------------------------------------------------------------------------------\n",
      "| epoch   5 |   500/ 1963 batches | accuracy    0.871\n",
      "| epoch   5 |  1000/ 1963 batches | accuracy    0.875\n",
      "| epoch   5 |  1500/ 1963 batches | accuracy    0.877\n",
      "--------------------------------------------------------------------------------------\n",
      "  | end of epoch   5 | time: 123.05s | valid accuracy    0.855 | valid loss:   0.574\n",
      "--------------------------------------------------------------------------------------\n",
      "| epoch   6 |   500/ 1963 batches | accuracy    0.883\n",
      "| epoch   6 |  1000/ 1963 batches | accuracy    0.888\n",
      "| epoch   6 |  1500/ 1963 batches | accuracy    0.889\n",
      "--------------------------------------------------------------------------------------\n",
      "  | end of epoch   6 | time: 111.82s | valid accuracy    0.862 | valid loss:   0.541\n",
      "--------------------------------------------------------------------------------------\n",
      "| epoch   7 |   500/ 1963 batches | accuracy    0.894\n",
      "| epoch   7 |  1000/ 1963 batches | accuracy    0.897\n",
      "| epoch   7 |  1500/ 1963 batches | accuracy    0.899\n",
      "--------------------------------------------------------------------------------------\n",
      "  | end of epoch   7 | time: 111.31s | valid accuracy    0.869 | valid loss:   0.519\n",
      "--------------------------------------------------------------------------------------\n",
      "| epoch   8 |   500/ 1963 batches | accuracy    0.905\n",
      "| epoch   8 |  1000/ 1963 batches | accuracy    0.905\n",
      "| epoch   8 |  1500/ 1963 batches | accuracy    0.908\n",
      "--------------------------------------------------------------------------------------\n",
      "  | end of epoch   8 | time: 109.63s | valid accuracy    0.874 | valid loss:   0.505\n",
      "--------------------------------------------------------------------------------------\n",
      "| epoch   9 |   500/ 1963 batches | accuracy    0.912\n",
      "| epoch   9 |  1000/ 1963 batches | accuracy    0.913\n",
      "| epoch   9 |  1500/ 1963 batches | accuracy    0.915\n",
      "--------------------------------------------------------------------------------------\n",
      "  | end of epoch   9 | time: 111.27s | valid accuracy    0.878 | valid loss:   0.495\n",
      "--------------------------------------------------------------------------------------\n",
      "| epoch  10 |   500/ 1963 batches | accuracy    0.919\n",
      "| epoch  10 |  1000/ 1963 batches | accuracy    0.922\n",
      "| epoch  10 |  1500/ 1963 batches | accuracy    0.923\n",
      "--------------------------------------------------------------------------------------\n",
      "  | end of epoch  10 | time: 109.81s | valid accuracy    0.882 | valid loss:   0.488\n",
      "--------------------------------------------------------------------------------------\n",
      "| epoch  11 |   500/ 1963 batches | accuracy    0.926\n",
      "| epoch  11 |  1000/ 1963 batches | accuracy    0.931\n",
      "| epoch  11 |  1500/ 1963 batches | accuracy    0.931\n",
      "--------------------------------------------------------------------------------------\n",
      "  | end of epoch  11 | time: 112.08s | valid accuracy    0.885 | valid loss:   0.483\n",
      "--------------------------------------------------------------------------------------\n",
      "| epoch  12 |   500/ 1963 batches | accuracy    0.932\n",
      "| epoch  12 |  1000/ 1963 batches | accuracy    0.936\n",
      "| epoch  12 |  1500/ 1963 batches | accuracy    0.936\n",
      "--------------------------------------------------------------------------------------\n",
      "  | end of epoch  12 | time: 113.55s | valid accuracy    0.887 | valid loss:   0.481\n",
      "--------------------------------------------------------------------------------------\n",
      "| epoch  13 |   500/ 1963 batches | accuracy    0.939\n",
      "| epoch  13 |  1000/ 1963 batches | accuracy    0.941\n",
      "| epoch  13 |  1500/ 1963 batches | accuracy    0.942\n",
      "--------------------------------------------------------------------------------------\n",
      "  | end of epoch  13 | time: 113.18s | valid accuracy    0.887 | valid loss:   0.481\n",
      "--------------------------------------------------------------------------------------\n",
      "| epoch  14 |   500/ 1963 batches | accuracy    0.944\n",
      "| epoch  14 |  1000/ 1963 batches | accuracy    0.948\n",
      "| epoch  14 |  1500/ 1963 batches | accuracy    0.947\n",
      "--------------------------------------------------------------------------------------\n",
      "  | end of epoch  14 | time: 110.27s | valid accuracy    0.889 | valid loss:   0.483\n",
      "--------------------------------------------------------------------------------------\n",
      "| epoch  15 |   500/ 1963 batches | accuracy    0.950\n",
      "| epoch  15 |  1000/ 1963 batches | accuracy    0.953\n",
      "| epoch  15 |  1500/ 1963 batches | accuracy    0.953\n",
      "--------------------------------------------------------------------------------------\n",
      "  | end of epoch  15 | time: 112.87s | valid accuracy    0.890 | valid loss:   0.487\n",
      "--------------------------------------------------------------------------------------\n",
      "\n",
      " === Early Stopping ===\n",
      "\n",
      "Val_accuracy:  0.8900683064490267  - F1-score:  0.7671932908609235\n",
      "\n"
     ]
    }
   ],
   "source": [
    "PRELOAD = False\n",
    "MODE = Modes.TRAIN_AND_SAVE\n",
    "SAVED_FNAME = '/content/drive/MyDrive/model2_FINAL'\n",
    "\n",
    "if MODE is not Modes.LOAD:\n",
    "  if PRELOAD:\n",
    "    s_model, s_optim, _ = load_model(SAVED_FNAME, set_to='train')\n",
    "    print('model loaded from file')\n",
    "  model_2, metrics_2, cp_pars = train_loop (\n",
    "      lambda **pp:  (s_model if PRELOAD else BiGRU(N_OUT_FEATURES, **pp)),\n",
    "      train_dataloader,\n",
    "      val_dataloader,\n",
    "      criterion = torch.nn.CrossEntropyLoss(weight=tensor(CLASS_WEIGHTS).to(torch.float32)),\n",
    "      create_optimizer = (lambda _: s_optim) if PRELOAD else 'default',\n",
    "      verbose=True,\n",
    "      params = {'hidden': 256, 'LR_Adam': 0.0001},  #256\n",
    "      epochs = 25,\n",
    "      return_last_checkpoint=True\n",
    "  )\n",
    "  if MODE is Modes.TRAIN_AND_SAVE:\n",
    "    checkpoint_model(model_2, SAVED_FNAME, {**cp_pars, 'metrics':metrics_2})\n",
    "else:\n",
    "  model_2, _, metrics_2 = load_model(SAVED_FNAME, set_to='train')"
   ]
  },
  {
   "cell_type": "code",
   "execution_count": 33,
   "metadata": {
    "colab": {
     "base_uri": "https://localhost:8080/",
     "height": 296
    },
    "id": "oHoksltSNcMG",
    "outputId": "e7071cf9-0f64-45f2-f416-70d3addfe682"
   },
   "outputs": [
    {
     "data": {
      "image/png": "[encoded data removed]",
      "text/plain": [
       "<Figure size 1440x504 with 2 Axes>"
      ]
     },
     "metadata": {
      "needs_background": "light"
     },
     "output_type": "display_data"
    }
   ],
   "source": [
    "print_plots(metrics_2)"
   ]
  },
  {
   "cell_type": "markdown",
   "metadata": {
    "id": "i96IFu-opvUu"
   },
   "source": [
    "## BiLSTMx2 + FC model"
   ]
  },
  {
   "cell_type": "markdown",
   "metadata": {
    "id": "q305_JHusZkr"
   },
   "source": [
    "### Model definition"
   ]
  },
  {
   "cell_type": "code",
   "execution_count": null,
   "metadata": {
    "id": "LI5n0-UPp1L3"
   },
   "outputs": [],
   "source": [
    "class BiLSMx2(Base_RCNN):\n",
    "    \"\"\" Class Modelling the RCNN \"\"\"\n",
    "    def __init__(self, n_output=2, hidden=32, **_):\n",
    "      \"\"\"\n",
    "      Args:\n",
    "          n_output: nunber of output classes for the POS task\n",
    "          # NO  oov_method : method to address words that are out of vocabulary \n",
    "          # NO  num_of_words: number of words to be inputted inside the neural network at a time\n",
    "          # REPL_W_MAT embedding_model:initial (and final) vector embedding of the words in the known vocabulary\n",
    "\n",
    "       \"\"\"\n",
    "      super(BiLSMx2, self).__init__(n_output)\n",
    "      \n",
    "      self.embedding = nn.Embedding(*WEIGHT_MATRIX.shape)\n",
    "      self.embedding.weight = nn.Parameter(torch.from_numpy(WEIGHT_MATRIX))\n",
    "      set_requires_grad_for_layer(self.embedding, False)\n",
    "      self.lstm = nn.LSTM(input_size=WEIGHT_MATRIX.shape[1], hidden_size=hidden, num_layers=2, bidirectional=True,batch_first=True)\n",
    "      self.fc = nn.Linear(in_features=hidden*2, out_features=n_output)\n",
    "      \n",
    "    def forward(self,x):\n",
    "      \"fordaward pass of the NN the only input must be an iterable of words\"\n",
    "      x = self.embedding(tensor(x))\n",
    "      x, _ = self.lstm(torch.reshape(x,(1,*x.size())).to(torch.float32))\n",
    "      return self.fc(x) "
   ]
  },
  {
   "cell_type": "markdown",
   "metadata": {
    "id": "aHXwkpJMs0NC"
   },
   "source": [
    "### HP tuning"
   ]
  },
  {
   "cell_type": "code",
   "execution_count": null,
   "metadata": {
    "id": "8clWL7vzs7RL"
   },
   "outputs": [],
   "source": [
    "'''results = tune(\n",
    "    lambda **pp:  BiLSMx2(N_OUT_FEATURES, **pp),\n",
    "    train_dataloader,\n",
    "    val_dataloader,\n",
    "    { \"optimizer\": [\"Adam\",\"SGD\"],\n",
    "      \"learning_rate\": { \"Adam\": np.linspace(0.00008, 0.0003, num=4), \"SGD\": [0.5]},\n",
    "      \"hidden_size\": [128,256]},\n",
    "    epochs = 20\n",
    ")\n",
    "\n",
    "best_configuration = results[results[\"F1_score\"] == max(results[\"F1_score\"])]\n",
    "best_configuration\n",
    "''';"
   ]
  },
  {
   "cell_type": "markdown",
   "metadata": {
    "id": "6lFzFHBJ3SfW"
   },
   "source": [
    "Best configuration: Adam | LR = 0.0001 | Hidden = 256"
   ]
  },
  {
   "cell_type": "markdown",
   "metadata": {
    "id": "PKG64DRQs3KT"
   },
   "source": [
    "### Training model 3 with best Hyperparameters"
   ]
  },
  {
   "cell_type": "code",
   "execution_count": null,
   "metadata": {
    "colab": {
     "base_uri": "https://localhost:8080/"
    },
    "id": "8FxrhmDVqF6p",
    "outputId": "d5e7d956-1412-4b48-a2c9-9b9a03d1fa98"
   },
   "outputs": [
    {
     "name": "stdout",
     "output_type": "stream",
     "text": [
      "| epoch   1 |   500/ 1963 batches | accuracy    0.121\n",
      "| epoch   1 |  1000/ 1963 batches | accuracy    0.224\n",
      "| epoch   1 |  1500/ 1963 batches | accuracy    0.481\n",
      "--------------------------------------------------------------------------------------\n",
      "  | end of epoch   1 | time: 201.93s | valid accuracy    0.674 | valid loss:   1.513\n",
      "--------------------------------------------------------------------------------------\n",
      "| epoch   2 |   500/ 1963 batches | accuracy    0.706\n",
      "| epoch   2 |  1000/ 1963 batches | accuracy    0.750\n",
      "| epoch   2 |  1500/ 1963 batches | accuracy    0.769\n",
      "--------------------------------------------------------------------------------------\n",
      "  | end of epoch   2 | time: 245.40s | valid accuracy    0.781 | valid loss:   0.900\n",
      "--------------------------------------------------------------------------------------\n",
      "| epoch   3 |   500/ 1963 batches | accuracy    0.806\n",
      "| epoch   3 |  1000/ 1963 batches | accuracy    0.819\n",
      "| epoch   3 |  1500/ 1963 batches | accuracy    0.830\n",
      "--------------------------------------------------------------------------------------\n",
      "  | end of epoch   3 | time: 244.74s | valid accuracy    0.824 | valid loss:   0.707\n",
      "--------------------------------------------------------------------------------------\n",
      "| epoch   4 |   500/ 1963 batches | accuracy    0.851\n",
      "| epoch   4 |  1000/ 1963 batches | accuracy    0.856\n",
      "| epoch   4 |  1500/ 1963 batches | accuracy    0.861\n",
      "--------------------------------------------------------------------------------------\n",
      "  | end of epoch   4 | time: 242.31s | valid accuracy    0.842 | valid loss:   0.618\n",
      "--------------------------------------------------------------------------------------\n",
      "| epoch   5 |   500/ 1963 batches | accuracy    0.877\n",
      "| epoch   5 |  1000/ 1963 batches | accuracy    0.877\n",
      "| epoch   5 |  1500/ 1963 batches | accuracy    0.880\n",
      "--------------------------------------------------------------------------------------\n",
      "  | end of epoch   5 | time: 245.66s | valid accuracy    0.852 | valid loss:   0.566\n",
      "--------------------------------------------------------------------------------------\n",
      "| epoch   6 |   500/ 1963 batches | accuracy    0.895\n",
      "| epoch   6 |  1000/ 1963 batches | accuracy    0.893\n",
      "| epoch   6 |  1500/ 1963 batches | accuracy    0.897\n",
      "--------------------------------------------------------------------------------------\n",
      "  | end of epoch   6 | time: 244.82s | valid accuracy    0.861 | valid loss:   0.536\n",
      "--------------------------------------------------------------------------------------\n",
      "| epoch   7 |   500/ 1963 batches | accuracy    0.909\n",
      "| epoch   7 |  1000/ 1963 batches | accuracy    0.910\n",
      "| epoch   7 |  1500/ 1963 batches | accuracy    0.913\n",
      "--------------------------------------------------------------------------------------\n",
      "  | end of epoch   7 | time: 246.50s | valid accuracy    0.868 | valid loss:   0.522\n",
      "--------------------------------------------------------------------------------------\n",
      "| epoch   8 |   500/ 1963 batches | accuracy    0.922\n",
      "| epoch   8 |  1000/ 1963 batches | accuracy    0.924\n",
      "| epoch   8 |  1500/ 1963 batches | accuracy    0.926\n",
      "--------------------------------------------------------------------------------------\n",
      "  | end of epoch   8 | time: 249.77s | valid accuracy    0.873 | valid loss:   0.522\n",
      "--------------------------------------------------------------------------------------\n",
      "| epoch   9 |   500/ 1963 batches | accuracy    0.934\n",
      "| epoch   9 |  1000/ 1963 batches | accuracy    0.936\n",
      "| epoch   9 |  1500/ 1963 batches | accuracy    0.937\n",
      "--------------------------------------------------------------------------------------\n",
      "  | end of epoch   9 | time: 271.06s | valid accuracy    0.876 | valid loss:   0.528\n",
      "--------------------------------------------------------------------------------------\n",
      "| epoch  10 |   500/ 1963 batches | accuracy    0.944\n",
      "| epoch  10 |  1000/ 1963 batches | accuracy    0.947\n",
      "| epoch  10 |  1500/ 1963 batches | accuracy    0.947\n",
      "--------------------------------------------------------------------------------------\n",
      "  | end of epoch  10 | time: 257.89s | valid accuracy    0.879 | valid loss:   0.539\n",
      "--------------------------------------------------------------------------------------\n",
      "| epoch  11 |   500/ 1963 batches | accuracy    0.955\n",
      "| epoch  11 |  1000/ 1963 batches | accuracy    0.958\n",
      "| epoch  11 |  1500/ 1963 batches | accuracy    0.957\n",
      "--------------------------------------------------------------------------------------\n",
      "  | end of epoch  11 | time: 301.00s | valid accuracy    0.881 | valid loss:   0.557\n",
      "--------------------------------------------------------------------------------------\n",
      "\n",
      " === Early Stopping ===\n",
      "\n",
      "\n",
      "Val_accuracy:  0.8813776737324824  - F1-score:  0.7489270408971977\n",
      "\n"
     ]
    }
   ],
   "source": [
    "PRELOAD = False\n",
    "MODE = Modes.LOAD\n",
    "SAVED_FNAME = '/content/drive/MyDrive/model3'\n",
    "\n",
    "if MODE is not Modes.LOAD:\n",
    "  if PRELOAD:\n",
    "    s_model, s_optim, _ = load_model(SAVED_FNAME, set_to='train')\n",
    "    print('model loaded from file')\n",
    "  model_3, metrics_3, cp_pars = train_loop (\n",
    "      lambda **pp:  (s_model if PRELOAD else BiLSMx2(N_OUT_FEATURES, **pp)),\n",
    "      train_dataloader,\n",
    "      val_dataloader,\n",
    "      criterion = torch.nn.CrossEntropyLoss(weight=tensor(CLASS_WEIGHTS).to(torch.float32)),\n",
    "      create_optimizer = (lambda _: s_optim) if PRELOAD else 'default',\n",
    "      verbose=True,\n",
    "      params = {'hidden': 256, 'LR_Adam': 0.0001},  #256\n",
    "      epochs = 25,\n",
    "      return_last_checkpoint=True\n",
    "  )\n",
    "  if MODE is Modes.TRAIN_AND_SAVE:\n",
    "    checkpoint_model(model_3, SAVED_FNAME, {**cp_pars, 'metrics':metrics_3})\n",
    "else:\n",
    "  model_3, _, metrics_3 = load_model(SAVED_FNAME, set_to='train')"
   ]
  },
  {
   "cell_type": "code",
   "execution_count": null,
   "metadata": {
    "colab": {
     "base_uri": "https://localhost:8080/",
     "height": 464
    },
    "id": "bIOHrm6CpEyo",
    "outputId": "a7a8a75b-2fb5-490d-c2ac-0f52ffbf4185"
   },
   "outputs": [
    {
     "data": {
      "image/png": "[encoded data removed]",
      "text/plain": [
       "<Figure size 1656x504 with 2 Axes>"
      ]
     },
     "metadata": {},
     "output_type": "display_data"
    }
   ],
   "source": [
    "print_plots(metrics_3)"
   ]
  },
  {
   "cell_type": "markdown",
   "metadata": {
    "id": "Ez9QiY6qDO5j"
   },
   "source": [
    "## BiLSTM + FCx2 model"
   ]
  },
  {
   "cell_type": "markdown",
   "metadata": {
    "id": "UNg7B16utC0V"
   },
   "source": [
    "### Model definition"
   ]
  },
  {
   "cell_type": "code",
   "execution_count": null,
   "metadata": {
    "id": "yEm-b5_FD1wB"
   },
   "outputs": [],
   "source": [
    "class BiLSM_FCx2(Base_RCNN):\n",
    "    \"\"\" Class Modelling the RCNN \"\"\"\n",
    "    def __init__(self, n_output, hidden=32, **_):\n",
    "      \"\"\"\n",
    "      Args:\n",
    "          n_output: nunber of output classes for the POS task\n",
    "          # NO  oov_method : method to address words that are out of vocabulary \n",
    "          # NO  num_of_words: number of words to be inputted inside the neural network at a time\n",
    "          # REPL_W_MAT embedding_model:initial (and final) vector embedding of the words in the known vocabulary\n",
    "\n",
    "       \"\"\"\n",
    "      super(BiLSM_FCx2, self).__init__(n_output)\n",
    "      \n",
    "      self.embedding = nn.Embedding(*WEIGHT_MATRIX.shape)\n",
    "      self.embedding.weight = nn.Parameter(torch.from_numpy(WEIGHT_MATRIX))\n",
    "      set_requires_grad_for_layer(self.embedding, False)\n",
    "      self.lstm = nn.LSTM(input_size=WEIGHT_MATRIX.shape[1], hidden_size=hidden, bidirectional=True,batch_first=True)\n",
    "      self.fc1 = nn.Linear(in_features=hidden*2, out_features=hidden*2)\n",
    "      self.relu = torch.nn.ReLU()\n",
    "      self.fc2 = nn.Linear(in_features=hidden*2, out_features=n_output)\n",
    "      \n",
    "    def forward(self, x):\n",
    "      \"fordaward pass of the NN the only input must be an iterable of words\"\n",
    "      x = self.embedding(tensor(x))\n",
    "      x, _ = self.lstm(torch.reshape(x,(1,*x.size())).to(torch.float32))\n",
    "      x = self.fc1(x)\n",
    "      x = self.relu(x)\n",
    "      return self.fc2(x) "
   ]
  },
  {
   "cell_type": "markdown",
   "metadata": {
    "id": "fJSgeYJ6tIZb"
   },
   "source": [
    "### HP tuning"
   ]
  },
  {
   "cell_type": "code",
   "execution_count": null,
   "metadata": {
    "id": "u8PzLYOftLTK"
   },
   "outputs": [],
   "source": [
    "'''results = tune(\n",
    "    lambda **pp:  BiLSM_FCx2(N_OUT_FEATURES, **pp),\n",
    "    train_dataloader,\n",
    "    val_dataloader,\n",
    "    { \"optimizer\": [\"Adam\",\"SGD\"],\n",
    "      \"learning_rate\": { \"Adam\": np.linspace(0.00008, 0.0003, num=4), \"SGD\": [0.1, 0.01]},\n",
    "      \"hidden_size\": [128,256]},\n",
    "    epochs = 20\n",
    ")\n",
    "best_configuration = results[results[\"F1_score\"] == max(results[\"F1_score\"])]\n",
    "best_configuration\n",
    "''';"
   ]
  },
  {
   "cell_type": "markdown",
   "metadata": {
    "id": "M5PGR88c3aku"
   },
   "source": [
    "Best configuration: Adam | LR = 0.0001 | Hidden = 256"
   ]
  },
  {
   "cell_type": "markdown",
   "metadata": {
    "id": "hZa0Cn0WtWro"
   },
   "source": [
    "### Training model 4 with best Hyperparameters"
   ]
  },
  {
   "cell_type": "code",
   "execution_count": null,
   "metadata": {
    "colab": {
     "base_uri": "https://localhost:8080/"
    },
    "id": "1k7eITINfd_G",
    "outputId": "2a198d66-a626-4265-d23b-10f79d750472"
   },
   "outputs": [
    {
     "name": "stdout",
     "output_type": "stream",
     "text": [
      "| epoch   1 |   500/ 1963 batches | accuracy    0.176\n",
      "| epoch   1 |  1000/ 1963 batches | accuracy    0.464\n",
      "| epoch   1 |  1500/ 1963 batches | accuracy    0.642\n",
      "-------------------------------------------------------------------------------------\n",
      "  | end of epoch   1 | time: 88.44s | valid accuracy    0.703 | valid loss:   1.274\n",
      "-------------------------------------------------------------------------------------\n",
      "| epoch   2 |   500/ 1963 batches | accuracy    0.737\n",
      "| epoch   2 |  1000/ 1963 batches | accuracy    0.770\n",
      "| epoch   2 |  1500/ 1963 batches | accuracy    0.790\n",
      "--------------------------------------------------------------------------------------\n",
      "  | end of epoch   2 | time: 103.95s | valid accuracy    0.790 | valid loss:   0.853\n",
      "--------------------------------------------------------------------------------------\n",
      "| epoch   3 |   500/ 1963 batches | accuracy    0.815\n",
      "| epoch   3 |  1000/ 1963 batches | accuracy    0.825\n",
      "| epoch   3 |  1500/ 1963 batches | accuracy    0.832\n",
      "-------------------------------------------------------------------------------------\n",
      "  | end of epoch   3 | time: 89.37s | valid accuracy    0.817 | valid loss:   0.699\n",
      "-------------------------------------------------------------------------------------\n",
      "| epoch   4 |   500/ 1963 batches | accuracy    0.846\n",
      "| epoch   4 |  1000/ 1963 batches | accuracy    0.852\n",
      "| epoch   4 |  1500/ 1963 batches | accuracy    0.854\n",
      "-------------------------------------------------------------------------------------\n",
      "  | end of epoch   4 | time: 89.68s | valid accuracy    0.829 | valid loss:   0.623\n",
      "-------------------------------------------------------------------------------------\n",
      "| epoch   5 |   500/ 1963 batches | accuracy    0.868\n",
      "| epoch   5 |  1000/ 1963 batches | accuracy    0.869\n",
      "| epoch   5 |  1500/ 1963 batches | accuracy    0.873\n",
      "-------------------------------------------------------------------------------------\n",
      "  | end of epoch   5 | time: 89.52s | valid accuracy    0.839 | valid loss:   0.576\n",
      "-------------------------------------------------------------------------------------\n",
      "| epoch   6 |   500/ 1963 batches | accuracy    0.883\n",
      "| epoch   6 |  1000/ 1963 batches | accuracy    0.884\n",
      "| epoch   6 |  1500/ 1963 batches | accuracy    0.888\n",
      "-------------------------------------------------------------------------------------\n",
      "  | end of epoch   6 | time: 90.02s | valid accuracy    0.847 | valid loss:   0.553\n",
      "-------------------------------------------------------------------------------------\n",
      "| epoch   7 |   500/ 1963 batches | accuracy    0.897\n",
      "| epoch   7 |  1000/ 1963 batches | accuracy    0.898\n",
      "| epoch   7 |  1500/ 1963 batches | accuracy    0.899\n",
      "-------------------------------------------------------------------------------------\n",
      "  | end of epoch   7 | time: 89.82s | valid accuracy    0.853 | valid loss:   0.541\n",
      "-------------------------------------------------------------------------------------\n",
      "| epoch   8 |   500/ 1963 batches | accuracy    0.908\n",
      "| epoch   8 |  1000/ 1963 batches | accuracy    0.911\n",
      "| epoch   8 |  1500/ 1963 batches | accuracy    0.911\n",
      "-------------------------------------------------------------------------------------\n",
      "  | end of epoch   8 | time: 89.87s | valid accuracy    0.857 | valid loss:   0.536\n",
      "-------------------------------------------------------------------------------------\n",
      "| epoch   9 |   500/ 1963 batches | accuracy    0.920\n",
      "| epoch   9 |  1000/ 1963 batches | accuracy    0.921\n",
      "| epoch   9 |  1500/ 1963 batches | accuracy    0.921\n",
      "-------------------------------------------------------------------------------------\n",
      "  | end of epoch   9 | time: 93.21s | valid accuracy    0.861 | valid loss:   0.540\n",
      "-------------------------------------------------------------------------------------\n",
      "| epoch  10 |   500/ 1963 batches | accuracy    0.929\n",
      "| epoch  10 |  1000/ 1963 batches | accuracy    0.928\n",
      "| epoch  10 |  1500/ 1963 batches | accuracy    0.931\n",
      "-------------------------------------------------------------------------------------\n",
      "  | end of epoch  10 | time: 89.57s | valid accuracy    0.863 | valid loss:   0.559\n",
      "-------------------------------------------------------------------------------------\n",
      "| epoch  11 |   500/ 1963 batches | accuracy    0.938\n",
      "| epoch  11 |  1000/ 1963 batches | accuracy    0.937\n",
      "| epoch  11 |  1500/ 1963 batches | accuracy    0.939\n",
      "-------------------------------------------------------------------------------------\n",
      "  | end of epoch  11 | time: 86.43s | valid accuracy    0.866 | valid loss:   0.581\n",
      "-------------------------------------------------------------------------------------\n",
      "\n",
      " === Early Stopping ===\n",
      "\n",
      "Val_accuracy:  0.8662732899336176  - F1-score:  0.7450317687286269\n",
      "\n"
     ]
    }
   ],
   "source": [
    "PRELOAD = False\n",
    "MODE = Modes.TRAIN_AND_SAVE\n",
    "SAVED_FNAME = '/content/drive/MyDrive/model4_FINAL'\n",
    "\n",
    "if MODE is not Modes.LOAD:\n",
    "  if PRELOAD:\n",
    "    s_model, s_optim, _ = load_model(SAVED_FNAME, set_to='train')\n",
    "    print('model loaded from file')\n",
    "  model_4, metrics_4, cp_pars = train_loop (\n",
    "      lambda **pp:  (s_model if PRELOAD else BiLSM_FCx2(N_OUT_FEATURES, **pp)),\n",
    "      train_dataloader,\n",
    "      val_dataloader,\n",
    "      criterion = torch.nn.CrossEntropyLoss(weight=tensor(CLASS_WEIGHTS).to(torch.float32)),\n",
    "      create_optimizer = (lambda _: s_optim) if PRELOAD else 'default',\n",
    "      verbose=True,\n",
    "      params = {'hidden': 256, 'LR_Adam': 0.0001},  #256\n",
    "      epochs = 25,\n",
    "      return_last_checkpoint=True\n",
    "  )\n",
    "  if MODE is Modes.TRAIN_AND_SAVE:\n",
    "    checkpoint_model(model_4, SAVED_FNAME, {**cp_pars, 'metrics':metrics_4})\n",
    "else:\n",
    "  model_4, _, metrics_4 = load_model(SAVED_FNAME, set_to='train')"
   ]
  },
  {
   "cell_type": "code",
   "execution_count": null,
   "metadata": {
    "colab": {
     "base_uri": "https://localhost:8080/",
     "height": 458
    },
    "id": "ogOKAjYY4lOa",
    "outputId": "e62e1e0e-b10f-427e-c5a9-228478deac3d"
   },
   "outputs": [
    {
     "data": {
      "image/png": "[encoded data removed]",
      "text/plain": [
       "<Figure size 1440x504 with 2 Axes>"
      ]
     },
     "metadata": {},
     "output_type": "display_data"
    }
   ],
   "source": [
    "print_plots(metrics_4)"
   ]
  },
  {
   "cell_type": "markdown",
   "metadata": {
    "id": "N5frkLL0vS__"
   },
   "source": [
    "## Models comparison"
   ]
  },
  {
   "cell_type": "code",
   "execution_count": null,
   "metadata": {
    "id": "y5ji60x0vaKj"
   },
   "outputs": [],
   "source": [
    "print(f\"Model: Baseline (Bi-LSTM + FC) | Validation F1-score macro: {metrics_1['f1_score']}\")\n",
    "print(f\"Model: Bi-GRU + FC  | Validation F1-score macro: {metrics_2['f1_score']}\")\n",
    "print(f\"Model: BiLSTMx2 + FC  | Validation F1-score macro: {metrics_3['f1_score']}\")\n",
    "print(f\"Model: Bi-LSTM_FCx2  | Validation F1-score macro: {metrics_4['f1_score']}\")"
   ]
  },
  {
   "cell_type": "markdown",
   "metadata": {
    "id": "2GwY1bce6yKJ"
   },
   "source": [
    "The 2 best model architectures based on a comparison made on validation set turned out to be:\n",
    " *  Bi-GRU + FC model \n",
    " *  BiLSTMx2 + FC model"
   ]
  },
  {
   "cell_type": "markdown",
   "metadata": {
    "id": "WnnYugZ_vciU"
   },
   "source": [
    "## Evaluation on the test set"
   ]
  },
  {
   "cell_type": "code",
   "execution_count": null,
   "metadata": {
    "colab": {
     "base_uri": "https://localhost:8080/"
    },
    "id": "QJDL-1qV5-og",
    "outputId": "0e1f5753-07f5-4913-ff1d-7502eb67da34"
   },
   "outputs": [
    {
     "name": "stdout",
     "output_type": "stream",
     "text": [
      "\n",
      "Model: Bi-GRU + FC   | Test F1-score macro: 0.8174286725402169 | Test accuracy: 0.9013830813766485\n",
      "\n",
      "Model: BiLSTMx2 + FC  | Test F1-score macro: 0.8166578618056092 | Test accuracy: 0.8927629462849791\n"
     ]
    }
   ],
   "source": [
    "_, test_accuracy, labels_and_pred_accum = evaluate(test_dataloader, model_2, retain=True)\n",
    "print(f\"Model: Bi-GRU + FC   | Test F1-score macro: {get_f1_score(labels_and_pred_accum, no_punct_labels)} | Test accuracy: {test_accuracy}\")\n",
    "\n",
    "_, test_accuracy, labels_and_pred_accum = evaluate(test_dataloader, model_3, retain=True)\n",
    "print(f\"Model: BiLSTMx2 + FC  | Test F1-score macro: {get_f1_score(labels_and_pred_accum, no_punct_labels)} | Test accuracy: {test_accuracy}\")"
   ]
  },
  {
   "cell_type": "markdown",
   "metadata": {
    "id": "VQyNuxe0bj_k"
   },
   "source": [
    "## Final Error analysis"
   ]
  },
  {
   "cell_type": "markdown",
   "metadata": {
    "id": "6cIDuz-U9DwN"
   },
   "source": [
    "We have made this error analysis for all the models and found that it gives very similar results. For this reason, we have decided to leave only the most significant one executed on the best model"
   ]
  },
  {
   "cell_type": "markdown",
   "metadata": {
    "id": "y_2aHo7xlNUS"
   },
   "source": [
    "We can now introduce test data:"
   ]
  },
  {
   "cell_type": "code",
   "execution_count": 34,
   "metadata": {
    "colab": {
     "base_uri": "https://localhost:8080/",
     "height": 0
    },
    "id": "dif_u-rElS27",
    "outputId": "19489f6b-4485-4861-a9e6-8b65691e5706"
   },
   "outputs": [
    {
     "name": "stdout",
     "output_type": "stream",
     "text": [
      "from 400548 to 400676\n"
     ]
    }
   ],
   "source": [
    "print(end = f'from {len(WORD_TO_POSITION_DEFDICT)}', flush=True)\n",
    "encoded_test_df,  _ = apply_conversion(test_df, one_hot_dictionary, add_ = 1) # we add 1 random embedding to map UNK.s\n",
    "print(f' to {len(WORD_TO_POSITION_DEFDICT)}')\n",
    "\n",
    "test_dataset = CustomTextDataset(encoded_test_df)\n",
    "\n",
    "test_dataloader = DataLoader(test_dataset, batch_size=BATCH_SIZE, shuffle=False)"
   ]
  },
  {
   "cell_type": "code",
   "execution_count": 35,
   "metadata": {
    "id": "grg0nk6GoE_A"
   },
   "outputs": [],
   "source": [
    "model_2.update_embeddings()"
   ]
  },
  {
   "cell_type": "code",
   "execution_count": 36,
   "metadata": {
    "colab": {
     "base_uri": "https://localhost:8080/",
     "height": 0
    },
    "id": "_v7cABBKiOi0",
    "outputId": "50672d9c-224e-4e60-b586-f52318da3c2f"
   },
   "outputs": [
    {
     "name": "stdout",
     "output_type": "stream",
     "text": [
      "Some errors:\n",
      " [((29, 21), ('an', 'by')),\n",
      " ((27, 2), (\"''\", '.')),\n",
      " ((34, 16), ('but', 'said')),\n",
      " ((42, 4), ('which', 'to')),\n",
      " ((16, 27), ('said', \"''\")),\n",
      " ((11, 16), ('-', 'said')),\n",
      " ((4, 2), ('to', '.'))]\n"
     ]
    }
   ],
   "source": [
    "from pprint import pformat, pprint\n",
    "\n",
    "revert = lambda dict_: { v:k for k,v in dict_.items() }\n",
    "\n",
    "POSITION_TO_WORD = revert(WORD_TO_POSITION_DICTIONARY) \n",
    "\n",
    "test_loss, _, labels_and_pred_accum = evaluate(test_dataloader, model_2, retain=True)\n",
    "test_f1_score = get_f1_score(labels_and_pred_accum, no_punct_labels)\n",
    "\n",
    "print('Some errors:\\n',\n",
    "      pformat([(_,tuple(POSITION_TO_WORD[e] for e in _))  for _ in labels_and_pred_accum if _[0]!=_[1]][:7])\n",
    ")"
   ]
  },
  {
   "cell_type": "code",
   "execution_count": 37,
   "metadata": {
    "colab": {
     "base_uri": "https://localhost:8080/",
     "height": 0
    },
    "id": "zFU2JwsSbstN",
    "outputId": "cfeb7c8b-dbbc-44d0-e308-671bfa7c1ca6"
   },
   "outputs": [
    {
     "name": "stdout",
     "output_type": "stream",
     "text": [
      "              precision    recall  f1-score   support\n",
      "\n",
      "    0 -LRB-        0.71      0.67      0.69        18\n",
      "    2 JJ           0.74      0.76      0.75       918\n",
      "    3 WRB          0.85      0.92      0.88        24\n",
      "    4 NN           0.88      0.80      0.84      2381\n",
      "    5 PRP          0.99      1.00      1.00       192\n",
      "    6 MD           0.94      1.00      0.97       167\n",
      "    7 RP           0.55      0.85      0.67        33\n",
      "    8 TO           1.00      1.00      1.00       386\n",
      "    9 CC           0.98      1.00      0.99       366\n",
      "   11 VBG          0.70      0.82      0.76       221\n",
      "   12 WP           1.00      1.00      1.00        20\n",
      "   13 VB           0.92      0.97      0.94       403\n",
      "   14 POS          0.99      1.00      1.00       152\n",
      "   16 VBD          0.91      0.90      0.90       634\n",
      "   17 -RRB-        0.55      0.61      0.58        18\n",
      "   19 LS           0.00      0.00      0.00         0\n",
      "   20 RBR          0.43      0.40      0.41        15\n",
      "   21 RB           0.76      0.83      0.79       380\n",
      "   22 WDT          0.93      0.99      0.96        84\n",
      "   24 JJS          0.91      0.97      0.94        31\n",
      "   25 PDT          1.00      0.25      0.40         4\n",
      "   26 VBP          0.83      0.90      0.86       134\n",
      "   27 NNS          0.79      0.90      0.84       941\n",
      "   28 CD           0.95      0.96      0.96       858\n",
      "   29 IN           0.97      0.93      0.95      1629\n",
      "   30 VBZ          0.89      0.97      0.93       280\n",
      "   31 DT           0.98      0.99      0.98      1335\n",
      "   32 RBS          0.75      1.00      0.86         3\n",
      "   33 WP$          1.00      1.00      1.00         4\n",
      "   34 VBN          0.77      0.80      0.78       366\n",
      "   37 JJR          0.76      0.86      0.81        59\n",
      "   40 NNPS         0.36      0.20      0.26        44\n",
      "   42 NNP          0.89      0.83      0.86      1504\n",
      "   43 PRP$         1.00      1.00      1.00        99\n",
      "   44 EX           0.83      1.00      0.91         5\n",
      "\n",
      "    accuracy                           0.89     13708\n",
      "   macro avg       0.81      0.83      0.81     13708\n",
      "weighted avg       0.89      0.89      0.89     13708\n",
      "\n"
     ]
    }
   ],
   "source": [
    "from sklearn.metrics import classification_report\n",
    "\n",
    "labels_accum, pred_accum = zip(*labels_and_pred_accum)\n",
    "allowed_labels = list({_ for _ in labels_accum+pred_accum if _ in no_punct_labels})\n",
    "TAGN_TO_TAG_DICT = revert(one_hot_dictionary)\n",
    "TNAMES = [ f'{k:2} {TAGN_TO_TAG_DICT[k]:6}' for k in allowed_labels]\n",
    "\n",
    "print(get_metric_only_tbi(\n",
    "    labels_and_pred_accum,\n",
    "    no_punct_labels,\n",
    "    classification_report,\n",
    "    ([], {\n",
    "        'target_names': TNAMES,\n",
    "        'labels': allowed_labels,\n",
    "        'zero_division': 0\n",
    "    })\n",
    "))"
   ]
  },
  {
   "cell_type": "code",
   "execution_count": 38,
   "metadata": {
    "colab": {
     "base_uri": "https://localhost:8080/",
     "height": 574
    },
    "id": "bc0i7Ml1LXt-",
    "outputId": "6f8a4a72-bce8-4b33-e969-a3ccb3fb9321"
   },
   "outputs": [
    {
     "data": {
      "image/png": "[encoded data removed]",
      "text/plain": [
       "<Figure size 1584x1080 with 2 Axes>"
      ]
     },
     "metadata": {
      "needs_background": "light"
     },
     "output_type": "display_data"
    }
   ],
   "source": [
    "import seaborn as sn\n",
    "import matplotlib.pyplot as plt\n",
    "from sklearn.metrics import confusion_matrix\n",
    "import re\n",
    "\n",
    "cm = get_metric_only_tbi(labels_and_pred_accum, no_punct_labels, confusion_matrix, ([],{'normalize':'pred'}))\n",
    "#labels = list(set(labels_accum + pred_accum))\n",
    "\n",
    "plt.figure(figsize = (22,15))\n",
    "sn.heatmap(\n",
    "    pd.DataFrame(cm, index=TNAMES, columns=TNAMES),\n",
    "    annot=True, fmt='.1f')\n",
    "sn.set(font_scale=1) "
   ]
  },
  {
   "cell_type": "code",
   "execution_count": 39,
   "metadata": {
    "id": "ChvYvFfhXoun"
   },
   "outputs": [],
   "source": [
    "L = re.split(r'\\n*\\d+\\.\\s+([^\\s]+)\\s+(.*)',\n",
    "'''\\\n",
    "1. \tCC \tCoordinating conjunction\n",
    "2. \tCD \tCardinal number\n",
    "3. \tDT \tDeterminer\n",
    "4. \tEX \tExistential there\n",
    "5. \tFW \tForeign word\n",
    "6. \tIN \tPreposition or subordinating conjunction\n",
    "7. \tJJ \tAdjective\n",
    "8. \tJJR \tAdjective, comparative\n",
    "9. \tJJS \tAdjective, superlative\n",
    "10. \tLS \tList item marker\n",
    "11. \tMD \tModal\n",
    "12. \tNN \tNoun, singular or mass\n",
    "13. \tNNS \tNoun, plural\n",
    "14. \tNNP \tProper noun, singular\n",
    "15. \tNNPS \tProper noun, plural\n",
    "16. \tPDT \tPredeterminer\n",
    "17. \tPOS \tPossessive ending\n",
    "18. \tPRP \tPersonal pronoun\n",
    "19. \tPRP$ \tPossessive pronoun\n",
    "20. \tRB \tAdverb\n",
    "21. \tRBR \tAdverb, comparative\n",
    "22. \tRBS \tAdverb, superlative\n",
    "23. \tRP \tParticle\n",
    "24. \tSYM \tSymbol\n",
    "25. \tTO \tto\n",
    "26. \tUH \tInterjection\n",
    "27. \tVB \tVerb, base form\n",
    "28. \tVBD \tVerb, past tense\n",
    "29. \tVBG \tVerb, gerund or present participle\n",
    "30. \tVBN \tVerb, past participle\n",
    "31. \tVBP \tVerb, non-3rd person singular present\n",
    "32. \tVBZ \tVerb, 3rd person singular present\n",
    "33. \tWDT \tWh-determiner\n",
    "34. \tWP \tWh-pronoun\n",
    "35. \tWP$ \tPossessive wh-pronoun\n",
    "36. \tWRB \tWh-adverb''')\n",
    "\n",
    "def aux(L):\n",
    "  tmp = []\n",
    "  for e in L:\n",
    "    tmp.append(e)\n",
    "    if len(tmp)==3:\n",
    "      yield tmp[1:]\n",
    "      tmp=[]\n",
    "\n",
    "PENNTB = dict(aux(L))"
   ]
  },
  {
   "cell_type": "code",
   "execution_count": 40,
   "metadata": {
    "colab": {
     "base_uri": "https://localhost:8080/",
     "height": 0
    },
    "id": "TgV2EzWWkNZI",
    "outputId": "9e03574d-313b-48e8-960c-7ef2bdec6a04"
   },
   "outputs": [
    {
     "data": {
      "text/plain": [
       "['shall           MD        Modal                                   ',\n",
       " 'i               PRP       Personal pronoun                        ',\n",
       " 'compare         VBP       Verb, non-3rd person singular present   ',\n",
       " 'thee            VB        Verb, base form                         ',\n",
       " 'to              TO        to                                      ',\n",
       " 'a               DT        Determiner                              ',\n",
       " 'summer          NN        Noun, singular or mass                  ',\n",
       " \"'s              POS       Possessive ending                       \",\n",
       " 'day             NN        Noun, singular or mass                  ',\n",
       " '?               .                                                 ',\n",
       " 'thou            NNP       Proper noun, singular                   ',\n",
       " 'art             NNP       Proper noun, singular                   ',\n",
       " 'more            RBR       Adverb, comparative                     ',\n",
       " 'lovely          JJ        Adjective                               ',\n",
       " 'and             CC        Coordinating conjunction                ',\n",
       " 'more            JJR       Adjective, comparative                  ',\n",
       " 'temperate       JJ        Adjective                               ',\n",
       " ':               :                                                 ',\n",
       " 'rough           JJ        Adjective                               ',\n",
       " 'winds           MD        Modal                                   ',\n",
       " 'do              RB        Adverb                                  ',\n",
       " 'shake           VB        Verb, base form                         ',\n",
       " 'the             DT        Determiner                              ',\n",
       " 'darling         NN        Noun, singular or mass                  ',\n",
       " 'buds            NN        Noun, singular or mass                  ',\n",
       " 'of              IN        Preposition or subordinating conjunction',\n",
       " 'may             NNS       Noun, plural                            ',\n",
       " ',               ,                                                 ',\n",
       " 'and             CC        Coordinating conjunction                ',\n",
       " 'summer          NN        Noun, singular or mass                  ',\n",
       " \"'s              POS       Possessive ending                       \",\n",
       " 'lease           NN        Noun, singular or mass                  ',\n",
       " 'hath            VBZ       Verb, 3rd person singular present       ',\n",
       " 'all             DT        Determiner                              ',\n",
       " 'too             RB        Adverb                                  ',\n",
       " 'short           RB        Adverb                                  ',\n",
       " 'a               DT        Determiner                              ',\n",
       " 'date            NN        Noun, singular or mass                  ',\n",
       " ';               :                                                 ',\n",
       " 'sometime        RB        Adverb                                  ',\n",
       " 'too             RB        Adverb                                  ',\n",
       " 'hot             VBN       Verb, past participle                   ',\n",
       " 'the             DT        Determiner                              ',\n",
       " 'eye             NN        Noun, singular or mass                  ',\n",
       " 'of              IN        Preposition or subordinating conjunction',\n",
       " 'heaven          NNP       Proper noun, singular                   ',\n",
       " 'shines          VBZ       Verb, 3rd person singular present       ',\n",
       " ',               ,                                                 ',\n",
       " 'and             CC        Coordinating conjunction                ',\n",
       " 'often           RB        Adverb                                  ',\n",
       " 'is              VBZ       Verb, 3rd person singular present       ',\n",
       " 'his             PRP$      Possessive pronoun                      ',\n",
       " 'gold            NN        Noun, singular or mass                  ',\n",
       " 'complexion      JJ        Adjective                               ',\n",
       " 'dimm            CD        Cardinal number                         ',\n",
       " \"'d              RB        Adverb                                  \",\n",
       " ';               :                                                 ',\n",
       " 'and             CC        Coordinating conjunction                ',\n",
       " 'every           DT        Determiner                              ',\n",
       " 'fair            NN        Noun, singular or mass                  ',\n",
       " 'from            IN        Preposition or subordinating conjunction',\n",
       " 'fair            JJ        Adjective                               ',\n",
       " 'sometime        RB        Adverb                                  ',\n",
       " 'declines        NNS       Noun, plural                            ',\n",
       " ',               ,                                                 ',\n",
       " 'by              IN        Preposition or subordinating conjunction',\n",
       " 'chance          NN        Noun, singular or mass                  ',\n",
       " 'or              CC        Coordinating conjunction                ',\n",
       " 'nature          JJ        Adjective                               ',\n",
       " \"'s              POS       Possessive ending                       \",\n",
       " 'changing        VBG       Verb, gerund or present participle      ',\n",
       " 'course          JJ        Adjective                               ',\n",
       " 'untrimm         -LRB-[UNK]                                        ',\n",
       " \"'d              RB        Adverb                                  \",\n",
       " ';               :                                                 ',\n",
       " 'but             CC        Coordinating conjunction                ',\n",
       " 'thy             VB        Verb, base form                         ',\n",
       " 'eternal         VBZ       Verb, 3rd person singular present       ',\n",
       " 'summer          RB        Adverb                                  ',\n",
       " 'shall           MD        Modal                                   ',\n",
       " 'not             RB        Adverb                                  ',\n",
       " 'fade            VB        Verb, base form                         ',\n",
       " ',               ,                                                 ',\n",
       " 'nor             CC        Coordinating conjunction                ',\n",
       " 'lose            VB        Verb, base form                         ',\n",
       " 'possession      NN        Noun, singular or mass                  ',\n",
       " 'of              IN        Preposition or subordinating conjunction',\n",
       " 'that            DT        Determiner                              ',\n",
       " 'fair            JJ        Adjective                               ',\n",
       " 'thou            VB        Verb, base form                         ',\n",
       " 'ow              NNP       Proper noun, singular                   ',\n",
       " \"'st             -RRB-[UNK]                                        \",\n",
       " ';               :                                                 ',\n",
       " 'nor             CC        Coordinating conjunction                ',\n",
       " 'shall           VB        Verb, base form                         ',\n",
       " 'death           IN        Preposition or subordinating conjunction',\n",
       " 'brag            NNP       Proper noun, singular                   ',\n",
       " 'thou            MD        Modal                                   ',\n",
       " 'wander          VB        Verb, base form                         ',\n",
       " \"'st             -LRB-[UNK]                                        \",\n",
       " 'in              IN        Preposition or subordinating conjunction',\n",
       " 'his             PRP$      Possessive pronoun                      ',\n",
       " 'shade           NN        Noun, singular or mass                  ',\n",
       " ',               ,                                                 ',\n",
       " 'when            WRB       Wh-adverb                               ',\n",
       " 'in              IN        Preposition or subordinating conjunction',\n",
       " 'eternal         VBZ       Verb, 3rd person singular present       ',\n",
       " 'lines           NNS       Noun, plural                            ',\n",
       " 'to              TO        to                                      ',\n",
       " 'time            .                                                 ',\n",
       " 'thou            VB        Verb, base form                         ',\n",
       " 'grow            VB        Verb, base form                         ',\n",
       " \"'st             -RRB-[UNK]                                        \",\n",
       " ':               :                                                 ',\n",
       " 'so              RB        Adverb                                  ',\n",
       " 'long            VBP       Verb, non-3rd person singular present   ',\n",
       " 'as              JJ        Adjective                               ',\n",
       " 'men             NNS       Noun, plural                            ',\n",
       " 'can             MD        Modal                                   ',\n",
       " 'breathe         VB        Verb, base form                         ',\n",
       " 'or              CC        Coordinating conjunction                ',\n",
       " 'eyes            NNS       Noun, plural                            ',\n",
       " 'can             MD        Modal                                   ',\n",
       " 'see             VB        Verb, base form                         ',\n",
       " ',               ,                                                 ',\n",
       " 'so              RB        Adverb                                  ',\n",
       " 'long            RB        Adverb                                  ',\n",
       " 'lives           NNS       Noun, plural                            ',\n",
       " 'this            DT        Determiner                              ',\n",
       " ',               ,                                                 ',\n",
       " 'and             CC        Coordinating conjunction                ',\n",
       " 'this            DT        Determiner                              ',\n",
       " 'gives           VBZ       Verb, 3rd person singular present       ',\n",
       " 'life            NN        Noun, singular or mass                  ',\n",
       " 'to              TO        to                                      ',\n",
       " 'thee            VB        Verb, base form                         ',\n",
       " '.               .                                                 ']"
      ]
     },
     "execution_count": 40,
     "metadata": {},
     "output_type": "execute_result"
    }
   ],
   "source": [
    "# To visualize output\n",
    "\n",
    "def try_model(sentence, model, tokenization=r\"\\'?[^ \\t\\n\\.,;:\\!\\?\\']+|[\\.,;:\\!\\?\\']\"):\n",
    "  global WORD_TO_POSITION_DICTIONARY, TAGN_TO_TAG_DICT\n",
    "  my_sentence = re.findall(tokenization, sentence.lower())\n",
    "  last = len(WEIGHT_MATRIX)-1\n",
    "  enc = [WORD_TO_POSITION_DICTIONARY[_] if _ in WORD_TO_POSITION_DICTIONARY else last for _ in my_sentence]\n",
    "  res = model(enc)\n",
    "  return [f'{my_sentence[i]:15}'\n",
    "    f' {(TAGN_TO_TAG_DICT[int(_)] if enc[i]!=last else f\"{TAGN_TO_TAG_DICT[int(_)]}[UNK]\"):10}'\n",
    "    f'{(PENNTB[TAGN_TO_TAG_DICT[int(_)]] if TAGN_TO_TAG_DICT[int(_)] in PENNTB else \"\"):40}'\n",
    "    for (i,_) in enumerate(res.argmax(2).squeeze())]\n",
    "\n",
    "try_model('''\n",
    "Shall I compare thee to a summer’s day?\n",
    "Thou art more lovely and more temperate:\n",
    "Rough winds do shake the darling buds of May,\n",
    "And summer’s lease hath all too short a date;\n",
    "Sometime too hot the eye of heaven shines,\n",
    "And often is his gold complexion dimm'd;\n",
    "And every fair from fair sometime declines,\n",
    "By chance or nature’s changing course untrimm'd;\n",
    "But thy eternal summer shall not fade,\n",
    "Nor lose possession of that fair thou ow’st;\n",
    "Nor shall death brag thou wander’st in his shade,\n",
    "When in eternal lines to time thou grow’st:\n",
    "So long as men can breathe or eyes can see,\n",
    "So long lives this, and this gives life to thee.'''.replace('’',\"'\"), model_2)"
   ]
  },
  {
   "cell_type": "markdown",
   "metadata": {
    "id": "uuLP4qC_i1B1"
   },
   "source": [
    "## Conclusions"
   ]
  },
  {
   "cell_type": "markdown",
   "metadata": {
    "id": "Z7cjk-jHi5G3"
   },
   "source": [
    "The architectures that have reached the best performances in terms of F1-score and\n",
    "accuracy on the test set are: the Bi-Gru + FC model and the Bi-LSTMx2 + FC model.\n",
    "\n",
    "Possible extensions of this work could be:\n",
    "* The addition of learneable embeddings, in order to be able to fine-tune them to our domain.\n",
    "* Feeding the network with handcrafted features that we know are useful to better perform our\n",
    "task.\n",
    "* Trying with a broader spectrum of architectures and with variants of the ones we used. For\n",
    "example, it would be worth investigating the substitution of the dense layer(s) with time-distributed\n",
    "dense layer(s)."
   ]
  }
 ],
 "metadata": {
  "accelerator": "GPU",
  "colab": {
   "collapsed_sections": [],
   "name": "Assignment_1_v2.ipynb",
   "provenance": []
  },
  "kernelspec": {
   "display_name": "Python 3",
   "language": "python",
   "name": "python3"
  },
  "language_info": {
   "codemirror_mode": {
    "name": "ipython",
    "version": 3
   },
   "file_extension": ".py",
   "mimetype": "text/x-python",
   "name": "python",
   "nbconvert_exporter": "python",
   "pygments_lexer": "ipython3",
   "version": "3.8.10"
  }
 },
 "nbformat": 4,
 "nbformat_minor": 1
}
